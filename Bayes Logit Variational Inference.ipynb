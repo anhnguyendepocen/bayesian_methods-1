{
 "cells": [
  {
   "cell_type": "markdown",
   "metadata": {},
   "source": [
    "# Bank Card Binary Choice - Bayesian Logit"
   ]
  },
  {
   "cell_type": "markdown",
   "metadata": {},
   "source": [
    "Data from trade-off study where participants were shown a choice between two hypothetical bank cards. The two cards were identical in all characteristics except for two.  Each participant evaluated 13-17 paired comparisons \n",
    "involving a fraction of attributes. \n",
    "\n",
    "The data bank_choice contains columns:\n",
    "\n",
    "- id: participant identifier\n",
    "- choice: choice indicator (1=first card; 0=second card)\n",
    "- remaining columns: x_hi1 - x_hi2, difference in attribute x between card 1 and card 2\n",
    "\n",
    "The data bank_demo contains columns:\n",
    "\n",
    "- id: participant identifier\n",
    "- remaining columns: demographic information\n",
    "\n",
    "We can model the part-worths of each participant as random effects."
   ]
  },
  {
   "cell_type": "code",
   "execution_count": 1,
   "metadata": {},
   "outputs": [],
   "source": [
    "import numpy as np\n",
    "import pandas as pd\n",
    "import edward as ed\n",
    "import tensorflow as tf\n",
    "import matplotlib.pyplot as plt\n",
    "import seaborn as sns"
   ]
  },
  {
   "cell_type": "code",
   "execution_count": 2,
   "metadata": {},
   "outputs": [],
   "source": [
    "ed.set_seed(42)"
   ]
  },
  {
   "cell_type": "code",
   "execution_count": 3,
   "metadata": {},
   "outputs": [],
   "source": [
    "bank_choice = pd.read_csv(\"/Users/hauptjoh/Downloads/bank_choice.csv\")"
   ]
  },
  {
   "cell_type": "code",
   "execution_count": 4,
   "metadata": {},
   "outputs": [
    {
     "data": {
      "text/plain": [
       "Index(['id', 'choice', 'Med_FInt', 'Low_FInt', 'Med_VInt', 'Rewrd_2',\n",
       "       'Rewrd_3', 'Rewrd_4', 'Med_Fee', 'Low_Fee', 'Bank_B', 'Out_State',\n",
       "       'Med_Rebate', 'High_Rebate', 'High_CredLine', 'Long_Grace'],\n",
       "      dtype='object')"
      ]
     },
     "execution_count": 4,
     "metadata": {},
     "output_type": "execute_result"
    }
   ],
   "source": [
    "bank_choice.columns"
   ]
  },
  {
   "cell_type": "code",
   "execution_count": 5,
   "metadata": {},
   "outputs": [],
   "source": [
    "from sklearn.model_selection import train_test_split"
   ]
  },
  {
   "cell_type": "code",
   "execution_count": 6,
   "metadata": {},
   "outputs": [],
   "source": [
    "choice_train, choice_test = train_test_split(bank_choice, test_size = 0.3, random_state = 123)"
   ]
  },
  {
   "cell_type": "code",
   "execution_count": 7,
   "metadata": {},
   "outputs": [],
   "source": [
    "y_train = choice_train[[\"choice\"]].values.flatten()\n",
    "X_train = choice_train.drop([\"choice\", \"id\"], axis = 1).values\n",
    "\n",
    "y_test = choice_test[[\"choice\"]].values.flatten()\n",
    "X_test = choice_test.drop([\"choice\", \"id\"], axis = 1).values"
   ]
  },
  {
   "cell_type": "code",
   "execution_count": 8,
   "metadata": {},
   "outputs": [
    {
     "name": "stdout",
     "output_type": "stream",
     "text": [
      "(10359,)\n",
      "(10359, 14)\n"
     ]
    }
   ],
   "source": [
    "print(y_train.shape)\n",
    "print(X_train.shape)"
   ]
  },
  {
   "cell_type": "markdown",
   "metadata": {},
   "source": [
    "## Standard (frequentist) Logit Model"
   ]
  },
  {
   "cell_type": "markdown",
   "metadata": {},
   "source": [
    "If you search for 'logistic regression with python', there's tons of pages explaining how to estimate a logistic regression model using sklearn (and the frequentist approach). For comparison, let's get the coefficients and area-under-the-ROC-curve (AUC)."
   ]
  },
  {
   "cell_type": "code",
   "execution_count": 9,
   "metadata": {},
   "outputs": [
    {
     "data": {
      "text/plain": [
       "LogisticRegression(C=1, class_weight=None, dual=False, fit_intercept=True,\n",
       "          intercept_scaling=1, max_iter=100, multi_class='ovr', n_jobs=1,\n",
       "          penalty='l2', random_state=None, solver='liblinear', tol=0.0001,\n",
       "          verbose=0, warm_start=False)"
      ]
     },
     "execution_count": 9,
     "metadata": {},
     "output_type": "execute_result"
    }
   ],
   "source": [
    "from sklearn import linear_model\n",
    "reg = linear_model.LogisticRegression(penalty=\"l2\", C=1)\n",
    "reg.fit(X=X_train, y=y_train)"
   ]
  },
  {
   "cell_type": "code",
   "execution_count": 10,
   "metadata": {},
   "outputs": [
    {
     "name": "stdout",
     "output_type": "stream",
     "text": [
      "0.7924568382159967\n"
     ]
    }
   ],
   "source": [
    "from sklearn.metrics import roc_auc_score\n",
    "print(roc_auc_score(y_test, reg.predict_proba(X_test)[:,1]))"
   ]
  },
  {
   "cell_type": "markdown",
   "metadata": {},
   "source": [
    "## Bayesian Logit model"
   ]
  },
  {
   "cell_type": "markdown",
   "metadata": {},
   "source": [
    "The logit model is defined as $P(y_hi=1)=\\frac{exp[(x_{hi1}-x_{hi2})^T\\beta]}{1+exp[(x_{hi1}-x_{hi2})^T\\beta]}$"
   ]
  },
  {
   "cell_type": "code",
   "execution_count": 11,
   "metadata": {},
   "outputs": [
    {
     "name": "stdout",
     "output_type": "stream",
     "text": [
      "10359\n",
      "14\n"
     ]
    }
   ],
   "source": [
    "N = y_train.shape[0] # Number of observations\n",
    "D = X_train.shape[1] # Number of variables\n",
    "print(N)\n",
    "print(D)"
   ]
  },
  {
   "cell_type": "code",
   "execution_count": 12,
   "metadata": {},
   "outputs": [],
   "source": [
    "from edward.models import Normal, Bernoulli, Empirical"
   ]
  },
  {
   "cell_type": "code",
   "execution_count": 13,
   "metadata": {},
   "outputs": [],
   "source": [
    "X = tf.placeholder(tf.float32, [N, D])\n",
    "w = Normal(loc=tf.zeros(D), scale=1.0 * tf.ones(D))\n",
    "b = Normal(loc=tf.zeros([]), scale=1.0 * tf.ones([]))\n",
    "y = Bernoulli(logits=ed.dot(X, w) + b)"
   ]
  },
  {
   "cell_type": "code",
   "execution_count": 14,
   "metadata": {},
   "outputs": [
    {
     "name": "stdout",
     "output_type": "stream",
     "text": [
      "RandomVariable(\"Bernoulli/\", shape=(10359,), dtype=int32)\n"
     ]
    }
   ],
   "source": [
    "with tf.Session() as sess:\n",
    "    print(y)"
   ]
  },
  {
   "cell_type": "markdown",
   "metadata": {},
   "source": [
    "### MCMC"
   ]
  },
  {
   "cell_type": "markdown",
   "metadata": {},
   "source": [
    "We can use the metropolis-hastings algorithm to approximate the distribution we are looking for. This works even in cases where this posterior distribution is much more complicated. The MH algorithm works by starting with the parameters (our $b$ and $w$s) initialized at random. It then starts moving through different values of $b$ and $w$ by picking new candidates $b^*, w^*$ and accepting them if they seem 'better'. 'Better' is defined by an acceptance rule giving the probability of acceptance as \n",
    "\n",
    "$\\alpha = \\text{min}(\\frac{p(x^*) q(x|x^*)}{p(x) q(x^*|x)}, 1)$. \n",
    "\n",
    "Don't worry about the $min(\\cdot,1)$, it just ensures that our probability to jump doesn't exceed 1."
   ]
  },
  {
   "cell_type": "markdown",
   "metadata": {},
   "source": [
    "To put that in a familiar context, image you're traveling through Germany. You have no idea were tourists normally go, so you decide to pick you next destination on the fly. Let's say your traveling for good and if you find the perfect place, you are willing to go back for another day. That's a Markov Chain, since your next destination depends only on your current position. \n",
    "\n",
    "Today you are in Frankfurt and searching for the next train to leave the city $q(\\cdot|x)$ suggets you go to Nuremberg. To decide whether to go or stay, you check online 1) how many tourists visit Frankfurt every year $p(x)$ and 2) how many tourists visit Nuremberg every year $p(x^*)$. If relatively more tourists visit Nuremberg, that's surely the place to be, so you're more likely to go. That's the original Metropolis algorithm.\n",
    "\n",
    "Now a more efficient backpacker strategy would be to ask a random passer-by for a suggestion instead of boarding just any train. Sounds good, but there's a danger: They could make you miss out on whole parts of the country by sending you to places where people are unlikely to send you back in the direction you came from. Let's say Germans from the south are unlikely to send you back up north to Hamburg or Berlin. In this case it's better to think twice before burning that bridge and going to Nuremberg, so you correct your acceptance probability to account for the asymmetry. You can do that by taking surprising suggetions $p(x^*|x)$ more seriously and avoiding suggestions that send you to places where people will not send you back the direction you came from $p(x|x^*)$. That's the extension from the Metropolis to the Metropolis-Hastings algorithm."
   ]
  },
  {
   "cell_type": "markdown",
   "metadata": {},
   "source": [
    "The tricky part in application is to pick a proposal distribution that gives suggestions far from the places you've already seen but also enough suggestions that fit the acceptance rule. The dart method might suggest too many places all over Germany that no tourist has ever visited, so you'll just stay put in Frankfurt. Passers-by are likely to suggest cities in the vicinity and get you stuck in just one state for a long time."
   ]
  },
  {
   "cell_type": "markdown",
   "metadata": {},
   "source": [
    "For the example, we'll sample new candiates from a normal distribution centered around the currect state. If we pick the variance of the normal distirbution too high, we'll end up with a low acceptance rate and no movement of the markov chain. If we pick the variance too low, the chain will move in small steps and will take too long to explore. I've picked 0.2"
   ]
  },
  {
   "cell_type": "code",
   "execution_count": 153,
   "metadata": {},
   "outputs": [],
   "source": [
    "T = 30000 # Number of iterations\n",
    "qw = Empirical(tf.Variable(tf.zeros([T,D])))\n",
    "qb = Empirical(tf.Variable(tf.zeros([T,])))\n",
    "\n",
    "proposal_w = Normal(loc=w, scale = .02)\n",
    "proposal_b = Normal(loc=b, scale = .02)"
   ]
  },
  {
   "cell_type": "markdown",
   "metadata": {},
   "source": [
    "Good introduction to sampling algorithms http://citeseerx.ist.psu.edu/viewdoc/download?doi=10.1.1.13.7133&rep=rep1&type=pdf"
   ]
  },
  {
   "cell_type": "code",
   "execution_count": 154,
   "metadata": {},
   "outputs": [],
   "source": [
    "from edward.inferences import MetropolisHastings\n",
    "inference = MetropolisHastings({w:qw, b:qb}, \n",
    "                               {w:proposal_w, b:proposal_b},\n",
    "                               data={y:y_train, X:X_train})"
   ]
  },
  {
   "cell_type": "markdown",
   "metadata": {},
   "source": [
    "Note how the acceptance rate is high at the beginning and decreases over time. "
   ]
  },
  {
   "cell_type": "code",
   "execution_count": 155,
   "metadata": {},
   "outputs": [
    {
     "name": "stdout",
     "output_type": "stream",
     "text": [
      "30000/30000 [100%] ██████████████████████████████ Elapsed: 67s | Acceptance Rate: 0.418\n"
     ]
    }
   ],
   "source": [
    "inference.run(n_print=500)"
   ]
  },
  {
   "cell_type": "code",
   "execution_count": 167,
   "metadata": {},
   "outputs": [
    {
     "data": {
      "image/png": "[encoded data removed]",
      "text/plain": [
       "<matplotlib.figure.Figure at 0x1a49b9f358>"
      ]
     },
     "metadata": {},
     "output_type": "display_data"
    }
   ],
   "source": [
    "var_id = 7\n",
    "estimates = qw.sample(1000).eval()[:, var_id]\n",
    "var_plot = sns.kdeplot(data=estimates)\n",
    "plt.axvline(x=np.mean(estimates), color = \"blue\", linestyle=\"dashed\")\n",
    "plt.axvline(x=reg.coef_.flatten()[var_id], color = \"red\", linestyle=\"dashed\")\n",
    "plt.show()"
   ]
  },
  {
   "cell_type": "markdown",
   "metadata": {},
   "source": [
    "We can, of course reduce this to point estimates, for example by taking the mean or median. Don't forget to evaluate the tensors after sampling to get numpy arrays."
   ]
  },
  {
   "cell_type": "code",
   "execution_count": 168,
   "metadata": {},
   "outputs": [
    {
     "data": {
      "text/plain": [
       "-0.06350703"
      ]
     },
     "execution_count": 168,
     "metadata": {},
     "output_type": "execute_result"
    }
   ],
   "source": [
    "b_est = np.mean(qb.sample(1000).eval())\n",
    "b_est"
   ]
  },
  {
   "cell_type": "code",
   "execution_count": 169,
   "metadata": {},
   "outputs": [
    {
     "data": {
      "text/plain": [
       "array([ 1.566582  ,  3.052825  ,  1.981907  , -0.05523199, -0.4829376 ,\n",
       "       -0.6071262 ,  1.2385337 ,  2.362202  , -0.10775102, -1.3547199 ,\n",
       "        0.85287946,  1.4482507 ,  0.5501625 ,  1.8574218 ], dtype=float32)"
      ]
     },
     "execution_count": 169,
     "metadata": {},
     "output_type": "execute_result"
    }
   ],
   "source": [
    "w_est = np.mean(qw.sample(1000).eval(),axis=0)\n",
    "w_est"
   ]
  },
  {
   "cell_type": "markdown",
   "metadata": {},
   "source": [
    "With point estimates, we can follow the same math as in frequentist logistic regression to calculate probability estimates."
   ]
  },
  {
   "cell_type": "code",
   "execution_count": 50,
   "metadata": {},
   "outputs": [],
   "source": [
    "pred = tf.sigmoid(ed.dot(tf.cast(X_test, tf.float32), w_est + b_est)).eval()"
   ]
  },
  {
   "cell_type": "code",
   "execution_count": 51,
   "metadata": {},
   "outputs": [
    {
     "data": {
      "text/plain": [
       "array([0.26460055, 0.4490029 , 0.5857104 , 0.18223925, 0.18415965,\n",
       "       0.20116317, 0.66811615, 0.5524457 , 0.7231517 , 0.34375554],\n",
       "      dtype=float32)"
      ]
     },
     "execution_count": 51,
     "metadata": {},
     "output_type": "execute_result"
    }
   ],
   "source": [
    "pred[0:10]"
   ]
  },
  {
   "cell_type": "code",
   "execution_count": 52,
   "metadata": {},
   "outputs": [
    {
     "name": "stdout",
     "output_type": "stream",
     "text": [
      "0.7924821563653017\n"
     ]
    }
   ],
   "source": [
    "from sklearn.metrics import confusion_matrix, roc_auc_score\n",
    "print(roc_auc_score(y_test, pred))"
   ]
  },
  {
   "cell_type": "markdown",
   "metadata": {},
   "source": [
    "To get true Bayesian estimates, we can avoid point estimates and instead sample from the posterior distribution of y. The resulting samples can be used to calculate better measures of our confidence in the prediction."
   ]
  },
  {
   "cell_type": "markdown",
   "metadata": {},
   "source": [
    "When predicting on the test data, an issue with Edward that I haven't figured out is that the placeholder for the input data doesn't fit anymore. We defined the placeholder to be the size of the training data for inference, but now need it to be the size of the test data. We therefore copy the posterior with the infered weights and bias distributions and a new placeholder for the test data."
   ]
  },
  {
   "cell_type": "code",
   "execution_count": 170,
   "metadata": {},
   "outputs": [],
   "source": [
    "X_post = tf.placeholder(tf.float32, X_test.shape)\n",
    "y_post = Bernoulli(logits=ed.dot(X_post, qw) + qb)"
   ]
  },
  {
   "cell_type": "markdown",
   "metadata": {},
   "source": [
    "Sample predictions for all observations from the Bernoulli distribution (i.e. 1/0). Repeat drawing predictions n times to approximate a prediction distribution for each observation. "
   ]
  },
  {
   "cell_type": "code",
   "execution_count": 178,
   "metadata": {},
   "outputs": [
    {
     "data": {
      "text/plain": [
       "(10000, 4440)"
      ]
     },
     "execution_count": 178,
     "metadata": {},
     "output_type": "execute_result"
    }
   ],
   "source": [
    "yhat = y_post.sample(10000, ).eval({X_post:X_test})\n",
    "yhat.shape"
   ]
  },
  {
   "cell_type": "code",
   "execution_count": 172,
   "metadata": {},
   "outputs": [],
   "source": [
    "yhat = np.asarray(yhat)"
   ]
  },
  {
   "cell_type": "code",
   "execution_count": 179,
   "metadata": {},
   "outputs": [
    {
     "data": {
      "text/plain": [
       "array([[0, 1],\n",
       "       [0, 0],\n",
       "       [0, 0],\n",
       "       [0, 0],\n",
       "       [0, 0]], dtype=int32)"
      ]
     },
     "execution_count": 179,
     "metadata": {},
     "output_type": "execute_result"
    }
   ],
   "source": [
    "yhat[0:5,0:2]"
   ]
  },
  {
   "cell_type": "code",
   "execution_count": 180,
   "metadata": {},
   "outputs": [
    {
     "data": {
      "image/png": "[encoded data removed]",
      "text/plain": [
       "<matplotlib.figure.Figure at 0x1a4abb4cf8>"
      ]
     },
     "metadata": {},
     "output_type": "display_data"
    }
   ],
   "source": [
    "plt.hist(yhat[:,0])\n",
    "plt.show()"
   ]
  },
  {
   "cell_type": "code",
   "execution_count": 175,
   "metadata": {},
   "outputs": [],
   "source": [
    "probs = np.mean(yhat, axis = 0)"
   ]
  },
  {
   "cell_type": "code",
   "execution_count": 176,
   "metadata": {},
   "outputs": [
    {
     "data": {
      "text/plain": [
       "array([0.2536, 0.3775, 0.5253, 0.1368, 0.1352, 0.1718, 0.6441, 0.5136,\n",
       "       0.7044, 0.3249])"
      ]
     },
     "execution_count": 176,
     "metadata": {},
     "output_type": "execute_result"
    }
   ],
   "source": [
    "probs[0:10]"
   ]
  },
  {
   "cell_type": "markdown",
   "metadata": {},
   "source": [
    "Need to evaluate the tensor. Any tensor is also a numpy array."
   ]
  },
  {
   "cell_type": "code",
   "execution_count": 177,
   "metadata": {},
   "outputs": [
    {
     "name": "stdout",
     "output_type": "stream",
     "text": [
      "0.7921850283285391\n"
     ]
    }
   ],
   "source": [
    "from sklearn.metrics import confusion_matrix, roc_auc_score\n",
    "print(roc_auc_score(y_test, probs))"
   ]
  },
  {
   "cell_type": "markdown",
   "metadata": {},
   "source": [
    "### Variational inference"
   ]
  },
  {
   "cell_type": "code",
   "execution_count": 40,
   "metadata": {},
   "outputs": [],
   "source": [
    "#Alternatively, use variational inference.\n",
    "qw_loc = tf.get_variable(\"qw_loc\", [D])\n",
    "qw_scale = tf.nn.softplus(tf.get_variable(\"qw_scale\", [D]))\n",
    "qb_loc = tf.get_variable(\"qb_loc\", []) + 10.0\n",
    "qb_scale = tf.nn.softplus(tf.get_variable(\"qb_scale\", []))"
   ]
  },
  {
   "cell_type": "code",
   "execution_count": 41,
   "metadata": {},
   "outputs": [],
   "source": [
    "qw = Normal(loc=qw_loc, scale=qw_scale)\n",
    "qb = Normal(loc=qb_loc, scale=qb_scale)"
   ]
  },
  {
   "cell_type": "code",
   "execution_count": 42,
   "metadata": {},
   "outputs": [],
   "source": [
    "#qw_alpha = tf.nn.softplus(tf.get_variable(\"qw_alpha\", [D])) +0.1\n",
    "#qw_beta = tf.nn.softplus(tf.get_variable(\"qw_beta\", [D]))+0.1\n",
    "#qb_alpha = tf.nn.softplus(tf.get_variable(\"qb_alpha\", []))+0.1\n",
    "#qb_beta = tf.nn.softplus(tf.get_variable(\"qb_beta\", []))+0.1"
   ]
  },
  {
   "cell_type": "code",
   "execution_count": 43,
   "metadata": {},
   "outputs": [],
   "source": [
    "#from edward.models import Beta\n",
    "#qw = Beta(concentration1=qw_alpha, concentration0=qw_beta)\n",
    "#qb = Beta(concentration1=qb_alpha, concentration0=qb_beta)"
   ]
  },
  {
   "cell_type": "code",
   "execution_count": 44,
   "metadata": {},
   "outputs": [
    {
     "name": "stderr",
     "output_type": "stream",
     "text": [
      "/Users/hauptjoh/anaconda/envs/edward/lib/python3.6/site-packages/edward/util/random_variables.py:52: FutureWarning: Conversion of the second argument of issubdtype from `float` to `np.floating` is deprecated. In future, it will be treated as `np.float64 == np.dtype(float).type`.\n",
      "  not np.issubdtype(value.dtype, np.float) and \\\n",
      "/Users/hauptjoh/anaconda/envs/edward/lib/python3.6/site-packages/edward/util/random_variables.py:53: FutureWarning: Conversion of the second argument of issubdtype from `int` to `np.signedinteger` is deprecated. In future, it will be treated as `np.int64 == np.dtype(int).type`.\n",
      "  not np.issubdtype(value.dtype, np.int) and \\\n"
     ]
    }
   ],
   "source": [
    "inference = ed.KLqp({w: qw, b: qb}, data={X: X_train, y: y_train})"
   ]
  },
  {
   "cell_type": "code",
   "execution_count": 57,
   "metadata": {},
   "outputs": [
    {
     "name": "stdout",
     "output_type": "stream",
     "text": [
      "5000/5000 [100%] ██████████████████████████████ Elapsed: 15s | Loss: 5696.667\n"
     ]
    }
   ],
   "source": [
    "inference.run(n_print=10, n_iter=5000)"
   ]
  },
  {
   "cell_type": "code",
   "execution_count": 55,
   "metadata": {},
   "outputs": [
    {
     "data": {
      "text/plain": [
       "<matplotlib.axes._subplots.AxesSubplot at 0x1a2ffae668>"
      ]
     },
     "execution_count": 55,
     "metadata": {},
     "output_type": "execute_result"
    },
    {
     "data": {
      "image/png": "[encoded data removed]",
      "text/plain": [
       "<matplotlib.figure.Figure at 0x1a300cab70>"
      ]
     },
     "metadata": {},
     "output_type": "display_data"
    }
   ],
   "source": [
    "sns.kdeplot(qb.sample(1000).eval())"
   ]
  },
  {
   "cell_type": "code",
   "execution_count": 67,
   "metadata": {},
   "outputs": [
    {
     "data": {
      "image/png": "[encoded data removed]",
      "text/plain": [
       "<matplotlib.figure.Figure at 0x1a31c49518>"
      ]
     },
     "metadata": {},
     "output_type": "display_data"
    }
   ],
   "source": [
    "var_id = 10\n",
    "estimates = qw.sample(10000).eval()[:, var_id]\n",
    "var_plot = sns.kdeplot(data=estimates)\n",
    "plt.axvline(x=np.mean(estimates), color = \"blue\", linestyle=\"dashed\")\n",
    "plt.axvline(x=reg.coef_.flatten()[var_id], color = \"red\", linestyle=\"dashed\")\n",
    "plt.show()"
   ]
  },
  {
   "cell_type": "code",
   "execution_count": 20,
   "metadata": {},
   "outputs": [],
   "source": [
    "X_post = tf.placeholder(tf.float32, X_test.shape)\n",
    "y_post = Bernoulli(logits=ed.dot(X_post, qw) + qb)"
   ]
  },
  {
   "cell_type": "code",
   "execution_count": 21,
   "metadata": {},
   "outputs": [
    {
     "data": {
      "text/plain": [
       "(10000, 4440)"
      ]
     },
     "execution_count": 21,
     "metadata": {},
     "output_type": "execute_result"
    }
   ],
   "source": [
    "yhat = y_post.sample(10000, ).eval({X_post:X_test})\n",
    "yhat.shape"
   ]
  },
  {
   "cell_type": "code",
   "execution_count": 22,
   "metadata": {},
   "outputs": [],
   "source": [
    "yhat = np.asarray(yhat)"
   ]
  },
  {
   "cell_type": "code",
   "execution_count": 23,
   "metadata": {},
   "outputs": [],
   "source": [
    "probs = np.mean(yhat, axis = 0)"
   ]
  },
  {
   "cell_type": "code",
   "execution_count": 24,
   "metadata": {},
   "outputs": [
    {
     "data": {
      "text/plain": [
       "array([0.2681, 0.3497, 0.5102, 0.1112, 0.1565, 0.1655, 0.6702, 0.4915,\n",
       "       0.7475, 0.357 ])"
      ]
     },
     "execution_count": 24,
     "metadata": {},
     "output_type": "execute_result"
    }
   ],
   "source": [
    "probs[0:10]"
   ]
  },
  {
   "cell_type": "markdown",
   "metadata": {},
   "source": [
    "Need to evaluate the tensor. Any tensor is also a numpy array."
   ]
  },
  {
   "cell_type": "code",
   "execution_count": 25,
   "metadata": {},
   "outputs": [
    {
     "name": "stdout",
     "output_type": "stream",
     "text": [
      "0.7915900518198706\n"
     ]
    }
   ],
   "source": [
    "from sklearn.metrics import confusion_matrix, roc_auc_score\n",
    "print(roc_auc_score(y_test, probs))"
   ]
  },
  {
   "cell_type": "markdown",
   "metadata": {},
   "source": [
    "### Hamilton Monte Carlo"
   ]
  },
  {
   "cell_type": "code",
   "execution_count": 28,
   "metadata": {},
   "outputs": [],
   "source": [
    "# INFERENCE\n",
    "T = 1000 # Number of posterior samples\n",
    "qw = Empirical(params=tf.get_variable(\"qw/params\", [T, D]))\n",
    "qb = Empirical(params=tf.get_variable(\"qb/params\", [T]))"
   ]
  },
  {
   "cell_type": "code",
   "execution_count": 31,
   "metadata": {},
   "outputs": [
    {
     "name": "stderr",
     "output_type": "stream",
     "text": [
      "/Users/hauptjoh/anaconda/envs/edward/lib/python3.6/site-packages/edward/util/random_variables.py:52: FutureWarning: Conversion of the second argument of issubdtype from `float` to `np.floating` is deprecated. In future, it will be treated as `np.float64 == np.dtype(float).type`.\n",
      "  not np.issubdtype(value.dtype, np.float) and \\\n",
      "/Users/hauptjoh/anaconda/envs/edward/lib/python3.6/site-packages/edward/util/random_variables.py:53: FutureWarning: Conversion of the second argument of issubdtype from `int` to `np.signedinteger` is deprecated. In future, it will be treated as `np.int64 == np.dtype(int).type`.\n",
      "  not np.issubdtype(value.dtype, np.int) and \\\n"
     ]
    }
   ],
   "source": [
    "inference = ed.HMC({w: qw, b: qb}, data={X: X_train, y: y_train})"
   ]
  },
  {
   "cell_type": "code",
   "execution_count": 36,
   "metadata": {},
   "outputs": [],
   "source": [
    "inference.initialize(n_print=10, step_size=0.6)\n",
    "tf.global_variables_initializer().run()"
   ]
  },
  {
   "cell_type": "code",
   "execution_count": 37,
   "metadata": {},
   "outputs": [
    {
     "name": "stdout",
     "output_type": "stream",
     "text": [
      "1000/1000 [100%] ██████████████████████████████ Elapsed: 5s | Acceptance Rate: 0.000\n"
     ]
    }
   ],
   "source": [
    "inference.run()"
   ]
  }
 ],
 "metadata": {
  "kernelspec": {
   "display_name": "Python [edward]",
   "language": "python",
   "name": "Python [edward]"
  },
  "language_info": {
   "codemirror_mode": {
    "name": "ipython",
    "version": 3
   },
   "file_extension": ".py",
   "mimetype": "text/x-python",
   "name": "python",
   "nbconvert_exporter": "python",
   "pygments_lexer": "ipython3",
   "version": "3.6.4"
  }
 },
 "nbformat": 4,
 "nbformat_minor": 2
}
