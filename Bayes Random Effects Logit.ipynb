{
 "cells": [
  {
   "cell_type": "markdown",
   "metadata": {},
   "source": [
    "# Bank Card Binary Choice - Hierarchical Model"
   ]
  },
  {
   "cell_type": "markdown",
   "metadata": {},
   "source": [
    "Data from trade-off study where participants were shown a choice between two hypothetical bank cards. The two cards were identical in all characteristics except for two.  Each participant evaluated 13-17 paired comparisons \n",
    "involving a fraction of attributes. \n",
    "\n",
    "The data bank_choice contains columns:\n",
    "\n",
    "- id: participant identifier\n",
    "- choice: choice indicator (1=first card; 0=second card)\n",
    "- remaining columns: x_hi1 - x_hi2, difference in attribute x between card 1 and card 2\n",
    "\n",
    "The data bank_demo contains columns:\n",
    "\n",
    "- id: participant identifier\n",
    "- remaining columns: demographic information\n",
    "\n",
    "We can model the part-worths of each participant as random effects."
   ]
  },
  {
   "cell_type": "code",
   "execution_count": 1,
   "metadata": {},
   "outputs": [],
   "source": [
    "import numpy as np\n",
    "import pandas as pd\n",
    "import edward as ed\n",
    "import tensorflow as tf\n",
    "import matplotlib.pyplot as plt\n",
    "import seaborn as sns"
   ]
  },
  {
   "cell_type": "code",
   "execution_count": 2,
   "metadata": {},
   "outputs": [],
   "source": [
    "ed.set_seed(42)"
   ]
  },
  {
   "cell_type": "code",
   "execution_count": 3,
   "metadata": {},
   "outputs": [],
   "source": [
    "bank_choice = pd.read_csv(\"/Users/hauptjoh/Downloads/bank_choice.csv\")\n",
    "bank_demo = pd.read_csv(\"/Users/hauptjoh/Downloads/bank_demo.csv\", )"
   ]
  },
  {
   "cell_type": "code",
   "execution_count": 4,
   "metadata": {},
   "outputs": [
    {
     "name": "stdout",
     "output_type": "stream",
     "text": [
      "Index(['id', 'choice', 'Med_FInt', 'Low_FInt', 'Med_VInt', 'Rewrd_2',\n",
      "       'Rewrd_3', 'Rewrd_4', 'Med_Fee', 'Low_Fee', 'Bank_B', 'Out_State',\n",
      "       'Med_Rebate', 'High_Rebate', 'High_CredLine', 'Long_Grace'],\n",
      "      dtype='object')\n",
      "Index(['id', 'age', 'income', 'gender'], dtype='object')\n"
     ]
    }
   ],
   "source": [
    "print(bank_choice.columns)\n",
    "print(bank_demo.columns)"
   ]
  },
  {
   "cell_type": "code",
   "execution_count": 5,
   "metadata": {},
   "outputs": [],
   "source": [
    "bank_demo = pd.merge(pd.DataFrame(bank_choice.id), bank_demo, \n",
    "                     left_on=\"id\", right_on=\"id\")"
   ]
  },
  {
   "cell_type": "code",
   "execution_count": 6,
   "metadata": {},
   "outputs": [
    {
     "data": {
      "text/html": [
       "<div>\n",
       "<style scoped>\n",
       "    .dataframe tbody tr th:only-of-type {\n",
       "        vertical-align: middle;\n",
       "    }\n",
       "\n",
       "    .dataframe tbody tr th {\n",
       "        vertical-align: top;\n",
       "    }\n",
       "\n",
       "    .dataframe thead th {\n",
       "        text-align: right;\n",
       "    }\n",
       "</style>\n",
       "<table border=\"1\" class=\"dataframe\">\n",
       "  <thead>\n",
       "    <tr style=\"text-align: right;\">\n",
       "      <th></th>\n",
       "      <th>id</th>\n",
       "      <th>age</th>\n",
       "      <th>income</th>\n",
       "      <th>gender</th>\n",
       "    </tr>\n",
       "  </thead>\n",
       "  <tbody>\n",
       "    <tr>\n",
       "      <th>14796</th>\n",
       "      <td>1021</td>\n",
       "      <td>60</td>\n",
       "      <td>40</td>\n",
       "      <td>0</td>\n",
       "    </tr>\n",
       "    <tr>\n",
       "      <th>14797</th>\n",
       "      <td>1021</td>\n",
       "      <td>60</td>\n",
       "      <td>40</td>\n",
       "      <td>0</td>\n",
       "    </tr>\n",
       "    <tr>\n",
       "      <th>14798</th>\n",
       "      <td>1021</td>\n",
       "      <td>60</td>\n",
       "      <td>40</td>\n",
       "      <td>0</td>\n",
       "    </tr>\n",
       "  </tbody>\n",
       "</table>\n",
       "</div>"
      ],
      "text/plain": [
       "         id  age  income  gender\n",
       "14796  1021   60      40       0\n",
       "14797  1021   60      40       0\n",
       "14798  1021   60      40       0"
      ]
     },
     "execution_count": 6,
     "metadata": {},
     "output_type": "execute_result"
    }
   ],
   "source": [
    "bank_demo.iloc[-3:,]"
   ]
  },
  {
   "cell_type": "markdown",
   "metadata": {},
   "source": [
    "Use sklearn to create training and testing set indices by creating a generator and then running the generator to get indices"
   ]
  },
  {
   "cell_type": "code",
   "execution_count": 7,
   "metadata": {},
   "outputs": [],
   "source": [
    "from sklearn.model_selection import StratifiedShuffleSplit"
   ]
  },
  {
   "cell_type": "code",
   "execution_count": 8,
   "metadata": {},
   "outputs": [],
   "source": [
    "sss = StratifiedShuffleSplit(n_splits=1, test_size = 0.3, random_state = 123)\n",
    "train, test = next(sss.split(bank_choice, bank_choice.choice))"
   ]
  },
  {
   "cell_type": "markdown",
   "metadata": {},
   "source": [
    "Separate the data into the card characteristics (fixed effects) and the user characteristics (random effects)"
   ]
  },
  {
   "cell_type": "code",
   "execution_count": 9,
   "metadata": {},
   "outputs": [],
   "source": [
    "card = bank_choice.drop([\"id\", \"choice\"], axis=1).values\n",
    "choice = bank_choice.choice.values.flatten()\n",
    "demo = bank_demo.drop([\"id\"], axis=1).values"
   ]
  },
  {
   "cell_type": "code",
   "execution_count": 10,
   "metadata": {},
   "outputs": [],
   "source": [
    "uid = pd.factorize(bank_choice.id)[0]"
   ]
  },
  {
   "cell_type": "code",
   "execution_count": 11,
   "metadata": {},
   "outputs": [
    {
     "name": "stdout",
     "output_type": "stream",
     "text": [
      "(14799, 14)\n",
      "(14799,)\n",
      "(14799, 3)\n",
      "(14799,)\n"
     ]
    }
   ],
   "source": [
    "print(card.shape)\n",
    "print(uid.shape)\n",
    "print(demo.shape)\n",
    "print(choice.shape)"
   ]
  },
  {
   "cell_type": "code",
   "execution_count": 12,
   "metadata": {},
   "outputs": [],
   "source": [
    "card_train = card[train,:]\n",
    "card_test = card[test,:]\n",
    "\n",
    "choice_train = choice[train]\n",
    "choice_test = choice[test]\n",
    "\n",
    "demo_train = demo[train,:]\n",
    "demo_test = demo[test,:]\n",
    "\n",
    "uid_train = uid[train]\n",
    "uid_test = uid[test]"
   ]
  },
  {
   "cell_type": "markdown",
   "metadata": {},
   "source": [
    "## Bayesian Logit model with random effects"
   ]
  },
  {
   "cell_type": "markdown",
   "metadata": {},
   "source": [
    "The simple logit model is defined as $P(y_hi=1)=\\frac{exp[\\beta_0 + (x_{hi1}-x_{hi2})^T\\beta]}{1+exp[\\beta_0 + (x_{hi1}-x_{hi2})^T\\beta]}$. The simple model assumes 1. that the baseline is identical for each user and 2. that the characteristics of each user have the same effect on the customer's choice. The model is called a fixed effects model, because the coefficients are assumed fixed for the population. We'll relax these assumptions by including 1. a bias term for each customer and 2. make the coefficients dependent on the user. Coefficients that vary for individiuals are called random effects."
   ]
  },
  {
   "cell_type": "code",
   "execution_count": 13,
   "metadata": {},
   "outputs": [],
   "source": [
    "N = len(train) # Number of observations\n",
    "D = card.shape[1] # Number of variables\n",
    "n_users = len(bank_demo.id.unique())"
   ]
  },
  {
   "cell_type": "code",
   "execution_count": 14,
   "metadata": {},
   "outputs": [],
   "source": [
    "from edward.models import Normal, Bernoulli, Empirical"
   ]
  },
  {
   "cell_type": "markdown",
   "metadata": {},
   "source": [
    "We have two inputs now, the card characteristics as before and the identity of the customer, which determines their bias term."
   ]
  },
  {
   "cell_type": "code",
   "execution_count": 48,
   "metadata": {},
   "outputs": [],
   "source": [
    "X_card = tf.placeholder(tf.float32, [N,D])\n",
    "X_uid = tf.placeholder(tf.int32, [N])"
   ]
  },
  {
   "cell_type": "markdown",
   "metadata": {},
   "source": [
    "Accordingly, we replace the population bias term by a bias term for each user."
   ]
  },
  {
   "cell_type": "code",
   "execution_count": 56,
   "metadata": {},
   "outputs": [],
   "source": [
    "#b = Normal(loc=tf.zeros([]), scale=3.0 * tf.ones([]))\n",
    "ub = Normal(loc=tf.zeros(n_users), scale=1.0 * tf.ones(n_users))"
   ]
  },
  {
   "cell_type": "markdown",
   "metadata": {},
   "source": [
    "For now, we'll keep the other coefficients fixed, as before."
   ]
  },
  {
   "cell_type": "code",
   "execution_count": 57,
   "metadata": {},
   "outputs": [],
   "source": [
    "w = Normal(loc=tf.zeros(D), scale=3.0 * tf.ones(D))\n",
    "\n",
    "y = Bernoulli(logits=ed.dot(X_card, w) + tf.gather(ub, indices = X_uid) )"
   ]
  },
  {
   "cell_type": "markdown",
   "metadata": {},
   "source": [
    "### Monte Carlo Sampling"
   ]
  },
  {
   "cell_type": "code",
   "execution_count": 58,
   "metadata": {},
   "outputs": [],
   "source": [
    "T = 20000 # Number of iterations\n",
    "qw = Empirical(tf.Variable(tf.zeros([T,D])))\n",
    "#qb = Empirical(tf.Variable(tf.zeros([T,])))\n",
    "qub = Empirical(tf.Variable(tf.zeros([T,n_users])))\n",
    "\n",
    "proposal_w = Normal(loc=w, scale = .02)\n",
    "#proposal_b = Normal(loc=b, scale = .02)\n",
    "proposal_ub = Normal(loc=ub, scale = .02)"
   ]
  },
  {
   "cell_type": "code",
   "execution_count": 59,
   "metadata": {},
   "outputs": [],
   "source": [
    "from edward.inferences import MetropolisHastings\n",
    "inference = MetropolisHastings({w:qw, ub:qub}, \n",
    "                               {w:proposal_w, ub:proposal_ub},\n",
    "                               data={y:choice_train, X_card:card_train, X_uid:uid_train})"
   ]
  },
  {
   "cell_type": "code",
   "execution_count": 60,
   "metadata": {},
   "outputs": [
    {
     "name": "stdout",
     "output_type": "stream",
     "text": [
      "20000/20000 [100%] ██████████████████████████████ Elapsed: 75s | Acceptance Rate: 0.399\n"
     ]
    }
   ],
   "source": [
    "inference.run(n_print=1000)"
   ]
  },
  {
   "cell_type": "markdown",
   "metadata": {},
   "source": [
    "### Variational inference"
   ]
  },
  {
   "cell_type": "code",
   "execution_count": null,
   "metadata": {},
   "outputs": [],
   "source": [
    "qw_loc = tf.get_variable(\"qw_loc\", [D])\n",
    "qw_scale = tf.nn.softplus(tf.get_variable(\"qw_scale\", [D]))\n",
    "\n",
    "qb_loc = tf.get_variable(\"qb_loc\", [])\n",
    "qb_scale = tf.nn.softplus(tf.get_variable(\"qb_scale\", []))\n",
    "\n",
    "qub_loc = tf.get_variable(\"qub_loc\", [n_users])\n",
    "qub_scale = tf.nn.softplus(tf.get_variable(\"qub_scale\", [n_users]))"
   ]
  },
  {
   "cell_type": "code",
   "execution_count": 17,
   "metadata": {},
   "outputs": [],
   "source": [
    "#qw_alpha = tf.nn.softplus(tf.get_variable(\"qw_alpha\", [D])) +0.1\n",
    "#qw_beta = tf.nn.softplus(tf.get_variable(\"qw_beta\", [D]))+0.1\n",
    "#qb_alpha = tf.nn.softplus(tf.get_variable(\"qb_alpha\", []))+0.1\n",
    "#qb_beta = tf.nn.softplus(tf.get_variable(\"qb_beta\", []))+0.1"
   ]
  },
  {
   "cell_type": "code",
   "execution_count": 18,
   "metadata": {},
   "outputs": [],
   "source": [
    "#from edward.models import Beta\n",
    "#qw = Beta(concentration1=qw_alpha, concentration0=qw_beta)\n",
    "#qb = Beta(concentration1=qb_alpha, concentration0=qb_beta)"
   ]
  },
  {
   "cell_type": "code",
   "execution_count": 18,
   "metadata": {},
   "outputs": [],
   "source": [
    "qw = Normal(loc=qw_loc, scale=qw_scale)\n",
    "qb = Normal(loc=qb_loc, scale=qb_scale)\n",
    "qub = Normal(loc=qub_loc, scale=qub_scale)"
   ]
  },
  {
   "cell_type": "code",
   "execution_count": 21,
   "metadata": {},
   "outputs": [
    {
     "name": "stderr",
     "output_type": "stream",
     "text": [
      "/Users/hauptjoh/anaconda/envs/edward/lib/python3.6/site-packages/edward/util/random_variables.py:52: FutureWarning: Conversion of the second argument of issubdtype from `float` to `np.floating` is deprecated. In future, it will be treated as `np.float64 == np.dtype(float).type`.\n",
      "  not np.issubdtype(value.dtype, np.float) and \\\n",
      "/Users/hauptjoh/anaconda/envs/edward/lib/python3.6/site-packages/edward/util/random_variables.py:53: FutureWarning: Conversion of the second argument of issubdtype from `int` to `np.signedinteger` is deprecated. In future, it will be treated as `np.int64 == np.dtype(int).type`.\n",
      "  not np.issubdtype(value.dtype, np.int) and \\\n"
     ]
    }
   ],
   "source": [
    "inference = ed.KLqp({w: qw, b: qb, ub: qub}, data={X_card: card[train,:], \n",
    "                                          y: choice[train], \n",
    "                                          X_uid: uid[train]})"
   ]
  },
  {
   "cell_type": "code",
   "execution_count": 22,
   "metadata": {},
   "outputs": [
    {
     "name": "stdout",
     "output_type": "stream",
     "text": [
      "2000/2000 [100%] ██████████████████████████████ Elapsed: 9s | Loss: 5721.656\n"
     ]
    }
   ],
   "source": [
    "inference.run(n_iter = 2000, n_print=100)"
   ]
  },
  {
   "cell_type": "markdown",
   "metadata": {},
   "source": [
    "### Model critique"
   ]
  },
  {
   "cell_type": "code",
   "execution_count": 61,
   "metadata": {},
   "outputs": [
    {
     "name": "stdout",
     "output_type": "stream",
     "text": [
      "946\n"
     ]
    },
    {
     "data": {
      "text/plain": [
       "(1000, 946)"
      ]
     },
     "execution_count": 61,
     "metadata": {},
     "output_type": "execute_result"
    }
   ],
   "source": [
    "print(n_users)\n",
    "qub.sample(1000).eval().shape"
   ]
  },
  {
   "cell_type": "code",
   "execution_count": 62,
   "metadata": {},
   "outputs": [],
   "source": [
    "random_effects = np.mean( qub.sample(1000).eval() , axis=0)"
   ]
  },
  {
   "cell_type": "code",
   "execution_count": 63,
   "metadata": {},
   "outputs": [
    {
     "name": "stdout",
     "output_type": "stream",
     "text": [
      "(946,)\n"
     ]
    },
    {
     "data": {
      "text/plain": [
       "array([-2.2216537 , -0.45124401, -0.00359018,  0.42809447,  1.99584985])"
      ]
     },
     "execution_count": 63,
     "metadata": {},
     "output_type": "execute_result"
    }
   ],
   "source": [
    "print(random_effects.shape)\n",
    "np.percentile(random_effects,[0,25,50,75,100])"
   ]
  },
  {
   "cell_type": "code",
   "execution_count": 72,
   "metadata": {},
   "outputs": [
    {
     "data": {
      "image/png": "[encoded data removed]",
      "text/plain": [
       "<matplotlib.figure.Figure at 0x1a1f265d68>"
      ]
     },
     "metadata": {},
     "output_type": "display_data"
    }
   ],
   "source": [
    "b01 = qub.sample(10000).eval()[:,5]\n",
    "var_plot = sns.kdeplot(data=b01)\n",
    "plt.axvline(x=np.mean(b01), color = \"blue\", linestyle=\"dashed\")\n",
    "plt.show()"
   ]
  },
  {
   "cell_type": "code",
   "execution_count": 73,
   "metadata": {},
   "outputs": [
    {
     "data": {
      "text/plain": [
       "(30000, 10359)"
      ]
     },
     "execution_count": 73,
     "metadata": {},
     "output_type": "execute_result"
    }
   ],
   "source": [
    "yhat = y.sample(30000, ).eval({X_card:card_train, X_uid: uid_train})\n",
    "yhat.shape"
   ]
  },
  {
   "cell_type": "code",
   "execution_count": 74,
   "metadata": {},
   "outputs": [],
   "source": [
    "yhat = np.asarray(yhat)"
   ]
  },
  {
   "cell_type": "code",
   "execution_count": 75,
   "metadata": {},
   "outputs": [],
   "source": [
    "probs = np.mean(yhat, axis = 0)"
   ]
  },
  {
   "cell_type": "code",
   "execution_count": 76,
   "metadata": {},
   "outputs": [
    {
     "name": "stdout",
     "output_type": "stream",
     "text": [
      "0.5164134111884165\n"
     ]
    }
   ],
   "source": [
    "from sklearn.metrics import confusion_matrix, roc_auc_score\n",
    "print(roc_auc_score(choice_train, probs))"
   ]
  },
  {
   "cell_type": "code",
   "execution_count": 77,
   "metadata": {},
   "outputs": [],
   "source": [
    "X_card_test = tf.placeholder(tf.float32, [len(test),D])\n",
    "X_uid_test = tf.placeholder(tf.int32, len(test))\n",
    "\n",
    "y_post = Bernoulli(logits=ed.dot(X_card_test, w) + tf.gather(ub, indices = X_uid_test) )"
   ]
  },
  {
   "cell_type": "code",
   "execution_count": 78,
   "metadata": {},
   "outputs": [
    {
     "data": {
      "text/plain": [
       "(10000, 4440)"
      ]
     },
     "execution_count": 78,
     "metadata": {},
     "output_type": "execute_result"
    }
   ],
   "source": [
    "yhat = y_post.sample(10000, ).eval({X_card_test:card_test, X_uid_test: uid_test})\n",
    "yhat.shape"
   ]
  },
  {
   "cell_type": "code",
   "execution_count": 79,
   "metadata": {},
   "outputs": [],
   "source": [
    "yhat = np.asarray(yhat)"
   ]
  },
  {
   "cell_type": "code",
   "execution_count": 80,
   "metadata": {},
   "outputs": [],
   "source": [
    "probs = np.mean(yhat, axis = 0)"
   ]
  },
  {
   "cell_type": "code",
   "execution_count": 81,
   "metadata": {},
   "outputs": [
    {
     "data": {
      "text/plain": [
       "array([0.4616, 1.    , 0.9995, 0.0021, 0.0061, 0.9493, 0.    , 0.9999,\n",
       "       0.0349, 0.8781])"
      ]
     },
     "execution_count": 81,
     "metadata": {},
     "output_type": "execute_result"
    }
   ],
   "source": [
    "probs[0:10]"
   ]
  },
  {
   "cell_type": "code",
   "execution_count": 82,
   "metadata": {},
   "outputs": [
    {
     "data": {
      "text/plain": [
       "array([0.0000e+00, 8.0000e-04, 7.3500e-02, 9.2515e-01, 1.0000e+00])"
      ]
     },
     "execution_count": 82,
     "metadata": {},
     "output_type": "execute_result"
    }
   ],
   "source": [
    "np.percentile(probs,[0,25,50,75,100])"
   ]
  },
  {
   "cell_type": "markdown",
   "metadata": {},
   "source": [
    "Need to evaluate the tensor. Any tensor is also a numpy array."
   ]
  },
  {
   "cell_type": "code",
   "execution_count": 83,
   "metadata": {},
   "outputs": [
    {
     "name": "stdout",
     "output_type": "stream",
     "text": [
      "0.49042117318983924\n"
     ]
    }
   ],
   "source": [
    "from sklearn.metrics import confusion_matrix, roc_auc_score\n",
    "print(roc_auc_score(choice_test, probs))"
   ]
  },
  {
   "cell_type": "markdown",
   "metadata": {},
   "source": [
    "### Hamilton Monte Carlo"
   ]
  },
  {
   "cell_type": "code",
   "execution_count": 28,
   "metadata": {},
   "outputs": [],
   "source": [
    "# INFERENCE\n",
    "T = 1000 # Number of posterior samples\n",
    "qw = Empirical(params=tf.get_variable(\"qw/params\", [T, D]))\n",
    "qb = Empirical(params=tf.get_variable(\"qb/params\", [T]))"
   ]
  },
  {
   "cell_type": "code",
   "execution_count": 31,
   "metadata": {},
   "outputs": [
    {
     "name": "stderr",
     "output_type": "stream",
     "text": [
      "/Users/hauptjoh/anaconda/envs/edward/lib/python3.6/site-packages/edward/util/random_variables.py:52: FutureWarning: Conversion of the second argument of issubdtype from `float` to `np.floating` is deprecated. In future, it will be treated as `np.float64 == np.dtype(float).type`.\n",
      "  not np.issubdtype(value.dtype, np.float) and \\\n",
      "/Users/hauptjoh/anaconda/envs/edward/lib/python3.6/site-packages/edward/util/random_variables.py:53: FutureWarning: Conversion of the second argument of issubdtype from `int` to `np.signedinteger` is deprecated. In future, it will be treated as `np.int64 == np.dtype(int).type`.\n",
      "  not np.issubdtype(value.dtype, np.int) and \\\n"
     ]
    }
   ],
   "source": [
    "inference = ed.HMC({w: qw, b: qb}, data={X: X_train, y: y_train})"
   ]
  },
  {
   "cell_type": "code",
   "execution_count": 44,
   "metadata": {},
   "outputs": [],
   "source": [
    "inference.initialize(n_print=10, step_size=0.01)\n",
    "tf.global_variables_initializer().run()"
   ]
  },
  {
   "cell_type": "code",
   "execution_count": 45,
   "metadata": {},
   "outputs": [
    {
     "name": "stdout",
     "output_type": "stream",
     "text": [
      "1000/1000 [100%] ██████████████████████████████ Elapsed: 6s | Acceptance Rate: 0.000\n"
     ]
    }
   ],
   "source": [
    "inference.run()"
   ]
  }
 ],
 "metadata": {
  "kernelspec": {
   "display_name": "Python [edward]",
   "language": "python",
   "name": "Python [edward]"
  },
  "language_info": {
   "codemirror_mode": {
    "name": "ipython",
    "version": 3
   },
   "file_extension": ".py",
   "mimetype": "text/x-python",
   "name": "python",
   "nbconvert_exporter": "python",
   "pygments_lexer": "ipython3",
   "version": "3.6.4"
  }
 },
 "nbformat": 4,
 "nbformat_minor": 2
}
