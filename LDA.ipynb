{
 "cells": [
  {
   "cell_type": "code",
   "execution_count": 1,
   "metadata": {},
   "outputs": [],
   "source": [
    "import numpy as np\n",
    "import edward as ed\n",
    "import tensorflow as tf\n",
    "import matplotlib.pyplot as plt"
   ]
  },
  {
   "cell_type": "code",
   "execution_count": 2,
   "metadata": {},
   "outputs": [],
   "source": [
    "def build_toy_dataset(N):\n",
    "    theta = [[0.1, 0.2, 0.7], [0.7,0.2,0.1], \n",
    "                      [0.2,0.7,0.1], [0.7,0.1,0.2]] # 4 Documents, 3 Topics\n",
    "    phi = [[0.1,0.1,0.1,0.1,0.1,0.5], \n",
    "                    [0.1,0.1,0.1,0.1,0.5,0.1], \n",
    "                    [0.2,0.2,0.2,0.2,0.1,0.1], # 6 Words per topic\n",
    "                   ]\n",
    "    x = np.zeros((N*4, 2), dtype=np.int32)\n",
    "    x[:,1] = [item for item,count in [(0,N), (1,N),(2,N),(3,N)] for i in range(count)]\n",
    "    for n in range(x.shape[0]):\n",
    "        k = np.argmax(np.random.multinomial(1, theta[x[n,1]])) # which topic depending on document\n",
    "        x[n, 0] = np.argmax(np.random.multinomial(1, phi[k]))\n",
    "\n",
    "    return x\n",
    "\n",
    "D = 4  # number of documents\n",
    "N = 100  # number of words per document\n",
    "\n",
    "x_train = build_toy_dataset(N*D)"
   ]
  },
  {
   "cell_type": "code",
   "execution_count": 3,
   "metadata": {},
   "outputs": [],
   "source": [
    "K = 3 # Number of topics\n",
    "V = len(set(x_train[:,0])) # Unique words observed"
   ]
  },
  {
   "cell_type": "code",
   "execution_count": 4,
   "metadata": {},
   "outputs": [
    {
     "data": {
      "text/plain": [
       "array([[0, 0],\n",
       "       [0, 0],\n",
       "       [5, 0],\n",
       "       [5, 0],\n",
       "       [5, 0],\n",
       "       [1, 0],\n",
       "       [4, 0],\n",
       "       [4, 0],\n",
       "       [1, 0]], dtype=int32)"
      ]
     },
     "execution_count": 4,
     "metadata": {},
     "output_type": "execute_result"
    }
   ],
   "source": [
    "x_train[95:104] # Word ID| Document ID"
   ]
  },
  {
   "cell_type": "markdown",
   "metadata": {},
   "source": [
    "The generative process of LDA is:\n",
    "- "
   ]
  },
  {
   "cell_type": "code",
   "execution_count": 5,
   "metadata": {},
   "outputs": [],
   "source": [
    "from edward.models import Dirichlet, Categorical, ParamMixture"
   ]
  },
  {
   "cell_type": "markdown",
   "metadata": {},
   "source": [
    "The sample of a k-dimensional Dirichlet distribution are k 'probabilities' that sum up to 1"
   ]
  },
  {
   "cell_type": "code",
   "execution_count": 6,
   "metadata": {},
   "outputs": [
    {
     "name": "stdout",
     "output_type": "stream",
     "text": [
      "[[0.0041837  0.08712402 0.9086923 ]]\n",
      "[[2 1 2]\n",
      " [2 2 2]\n",
      " [1 2 2]\n",
      " [2 2 2]\n",
      " [2 2 2]\n",
      " [2 2 1]\n",
      " [2 2 2]\n",
      " [2 1 2]\n",
      " [2 2 1]\n",
      " [2 2 2]]\n"
     ]
    }
   ],
   "source": [
    "with tf.Session() as sess:\n",
    "    alpha = [1.,10,100]\n",
    "    eta = Dirichlet(alpha, sample_shape =3 )\n",
    "    print(eta.sample(1).eval())\n",
    "    \n",
    "    gamma = Categorical(probs = eta)\n",
    "    print(gamma.sample(10).eval())"
   ]
  },
  {
   "cell_type": "code",
   "execution_count": 7,
   "metadata": {},
   "outputs": [
    {
     "name": "stdout",
     "output_type": "stream",
     "text": [
      "RandomVariable(\"Dirichlet_1/\", shape=(2,), dtype=float32)\n",
      "RandomVariable(\"Dirichlet_2/\", shape=(2, 3), dtype=float32)\n",
      "[2 2 1 0 1 2 1 1 2 2 1 2 2 2 2 2 2 2 1 1]\n"
     ]
    }
   ],
   "source": [
    "with tf.Session() as sess:\n",
    "    pi = Dirichlet([1.,1]) # Mixture of 2 distributions\n",
    "    alpha = [[1.,1,100],[1.,100,1]] # The parameters for each of the 2 distributions\n",
    "    eta = Dirichlet(alpha) # Draw a distribution from the 3 distr.\n",
    "    print(pi)\n",
    "    print(eta)\n",
    "     \n",
    "    gamma = ParamMixture(pi, {\"probs\":eta}, Categorical) # Draw a pi then draw a value from the distribution\n",
    "    print(gamma.sample(20).eval())"
   ]
  },
  {
   "cell_type": "code",
   "execution_count": 8,
   "metadata": {},
   "outputs": [],
   "source": [
    "from edward.models import Deterministic\n",
    "d = tf.placeholder(tf.int32, [D*N,])\n",
    "theta = Dirichlet(tf.ones(K), sample_shape = D) # Dir(alpha)\n",
    "pi = tf.reshape(tf.gather(theta,d, axis=0), [3,N*D])"
   ]
  },
  {
   "cell_type": "code",
   "execution_count": 9,
   "metadata": {},
   "outputs": [],
   "source": [
    "phi = Dirichlet(tf.ones(V), sample_shape = K) # Dir(beta)"
   ]
  },
  {
   "cell_type": "code",
   "execution_count": 10,
   "metadata": {},
   "outputs": [
    {
     "name": "stdout",
     "output_type": "stream",
     "text": [
      "RandomVariable(\"Dirichlet_4/\", shape=(3, 6), dtype=float32)\n"
     ]
    }
   ],
   "source": [
    "with tf.Session() as sess:\n",
    "    print(phi)"
   ]
  },
  {
   "cell_type": "code",
   "execution_count": 11,
   "metadata": {},
   "outputs": [],
   "source": [
    "w = ParamMixture(pi, # The mixture parameter \n",
    "                 {'probs':phi}, # The parameters of the distribution\n",
    "                 Categorical) #, # The distribution to sample from\n",
    "                 #sample_shape = N) # The number of samples"
   ]
  },
  {
   "cell_type": "code",
   "execution_count": 12,
   "metadata": {},
   "outputs": [],
   "source": [
    "z = w.cat"
   ]
  },
  {
   "cell_type": "markdown",
   "metadata": {},
   "source": [
    "## Inference via Gibbs sampling"
   ]
  },
  {
   "cell_type": "code",
   "execution_count": 12,
   "metadata": {},
   "outputs": [
    {
     "ename": "NotImplementedError",
     "evalue": "Conditional distribution has sufficient statistics (('#Log', ('#x',)), ('#Log', (<tf.Tensor 'Reshape:0' shape=(3, 400) dtype=float32>, (<tf.Tensor 'Gather:0' shape=(400, 3) dtype=float32>, ('#x',), (<tf.Tensor 'Placeholder:0' shape=(400,) dtype=int32>,)), (<tf.Tensor 'Reshape/shape:0' shape=(2,) dtype=int32>,)))), but no available exponential-family distribution has those sufficient statistics.",
     "output_type": "error",
     "traceback": [
      "\u001b[0;31m--------------------------------------\u001b[0m",
      "\u001b[0;31mNotImplementedError\u001b[0mTraceback (most recent call last)",
      "\u001b[0;32m<ipython-input-12-446f8a055312>\u001b[0m in \u001b[0;36m<module>\u001b[0;34m()\u001b[0m\n\u001b[1;32m      1\u001b[0m \u001b[0;31m# Conditionals\u001b[0m\u001b[0;34m\u001b[0m\u001b[0;34m\u001b[0m\u001b[0m\n\u001b[0;32m----> 2\u001b[0;31m \u001b[0mtheta_cond\u001b[0m \u001b[0;34m=\u001b[0m \u001b[0med\u001b[0m\u001b[0;34m.\u001b[0m\u001b[0mcomplete_conditional\u001b[0m\u001b[0;34m(\u001b[0m\u001b[0mtheta\u001b[0m\u001b[0;34m)\u001b[0m\u001b[0;34m\u001b[0m\u001b[0m\n\u001b[0m\u001b[1;32m      3\u001b[0m \u001b[0mphi_cond\u001b[0m \u001b[0;34m=\u001b[0m \u001b[0med\u001b[0m\u001b[0;34m.\u001b[0m\u001b[0mcomplete_conditional\u001b[0m\u001b[0;34m(\u001b[0m\u001b[0mphi\u001b[0m\u001b[0;34m)\u001b[0m\u001b[0;34m\u001b[0m\u001b[0m\n\u001b[1;32m      4\u001b[0m \u001b[0mw_cond\u001b[0m \u001b[0;34m=\u001b[0m \u001b[0med\u001b[0m\u001b[0;34m.\u001b[0m\u001b[0mcomplete_conditional\u001b[0m\u001b[0;34m(\u001b[0m\u001b[0mw\u001b[0m\u001b[0;34m)\u001b[0m\u001b[0;34m\u001b[0m\u001b[0m\n\u001b[1;32m      5\u001b[0m \u001b[0mz_cond\u001b[0m \u001b[0;34m=\u001b[0m \u001b[0med\u001b[0m\u001b[0;34m.\u001b[0m\u001b[0mcomplete_conditional\u001b[0m\u001b[0;34m(\u001b[0m\u001b[0mz\u001b[0m\u001b[0;34m)\u001b[0m\u001b[0;34m\u001b[0m\u001b[0m\n",
      "\u001b[0;32m~/anaconda/envs/edward/lib/python3.6/site-packages/edward/inferences/conjugacy/conjugacy.py\u001b[0m in \u001b[0;36mcomplete_conditional\u001b[0;34m(rv, cond_set)\u001b[0m\n\u001b[1;32m    128\u001b[0m                                 \u001b[0;34m'statistics %s, but no available '\u001b[0m\u001b[0;34m\u001b[0m\u001b[0m\n\u001b[1;32m    129\u001b[0m                                 \u001b[0;34m'exponential-family distribution has those '\u001b[0m\u001b[0;34m\u001b[0m\u001b[0m\n\u001b[0;32m--> 130\u001b[0;31m                                 'sufficient statistics.' % str(dist_key))\n\u001b[0m\u001b[1;32m    131\u001b[0m \u001b[0;34m\u001b[0m\u001b[0m\n\u001b[1;32m    132\u001b[0m     \u001b[0;31m# Swap sufficient statistics for placeholders, then take gradients\u001b[0m\u001b[0;34m\u001b[0m\u001b[0;34m\u001b[0m\u001b[0m\n",
      "\u001b[0;31mNotImplementedError\u001b[0m: Conditional distribution has sufficient statistics (('#Log', ('#x',)), ('#Log', (<tf.Tensor 'Reshape:0' shape=(3, 400) dtype=float32>, (<tf.Tensor 'Gather:0' shape=(400, 3) dtype=float32>, ('#x',), (<tf.Tensor 'Placeholder:0' shape=(400,) dtype=int32>,)), (<tf.Tensor 'Reshape/shape:0' shape=(2,) dtype=int32>,)))), but no available exponential-family distribution has those sufficient statistics."
     ]
    }
   ],
   "source": [
    "# Conditionals\n",
    "theta_cond = ed.complete_conditional(theta)\n",
    "phi_cond = ed.complete_conditional(phi)\n",
    "w_cond = ed.complete_conditional(w)\n",
    "z_cond = ed.complete_conditional(z)\n",
    "\n",
    "sess = ed.get_session()"
   ]
  },
  {
   "cell_type": "code",
   "execution_count": null,
   "metadata": {},
   "outputs": [],
   "source": [
    "# Initialize randomly\n",
    "theta_est, phi_est, w_est, z_est = sess.run([theta, phi, w, z])\n",
    "\n",
    "print('Initial parameters:')\n",
    "print('pi:', theta_est)\n",
    "print('mu:', phi_est)\n",
    "print('sigmasq:', z_est)\n",
    "print()"
   ]
  },
  {
   "cell_type": "code",
   "execution_count": null,
   "metadata": {},
   "outputs": [],
   "source": [
    "# Gibbs sampler\n",
    "cond_dict = {pi: pi_est, mu: mu_est, sigmasq: sigmasq_est,\n",
    "           z: z_est, x: x_data}\n",
    "t0 = time()\n",
    "T = 500\n",
    "for t in range(T):\n",
    "z_est = sess.run(z_cond, cond_dict)\n",
    "cond_dict[z] = z_est\n",
    "pi_est, mu_est = sess.run([pi_cond, mu_cond], cond_dict)\n",
    "cond_dict[pi] = pi_est\n",
    "cond_dict[mu] = mu_est\n",
    "sigmasq_est = sess.run(sigmasq_cond, cond_dict)\n",
    "cond_dict[sigmasq] = sigmasq_est\n",
    "print('took %.3f seconds to run %d iterations' % (time() - t0, T))\n",
    "\n",
    "print()\n",
    "print('Final sample for parameters::')\n",
    "print('pi:', pi_est)\n",
    "print('mu:', mu_est)\n",
    "print('sigmasq:', sigmasq_est)\n",
    "print()"
   ]
  },
  {
   "cell_type": "markdown",
   "metadata": {},
   "source": [
    "## Inference via "
   ]
  },
  {
   "cell_type": "code",
   "execution_count": 14,
   "metadata": {},
   "outputs": [],
   "source": [
    "T = 100"
   ]
  },
  {
   "cell_type": "code",
   "execution_count": 15,
   "metadata": {},
   "outputs": [],
   "source": [
    "from edward.models import Empirical\n",
    "\n",
    "qtheta = Empirical(tf.get_variable(\n",
    "\"qtheta/params\", [T, K], # Nr. samples x dimensionality of groups\n",
    "initializer = tf.constant_initializer(1.0/K))) # Initialized with uniform mixture\n",
    "\n",
    "qphi = Empirical(tf.get_variable(\n",
    "\"qphi/params\", [T, V], # Nr of samples x Vocabulary size\n",
    "initializer =  tf.constant_initializer(1.0/K))) \n",
    "\n",
    "qw = Empirical(tf.get_variable(\n",
    "\"qw/params\", [T, N],\n",
    "initializer = tf.ones_initializer(),\n",
    "dtype=tf.int32))\n",
    "\n",
    "qz =Empirical(tf.get_variable(\n",
    "\"qz/params\", [T, N],\n",
    "initializer = tf.zeros_initializer(),\n",
    "dtype=tf.int32))"
   ]
  },
  {
   "cell_type": "code",
   "execution_count": 16,
   "metadata": {},
   "outputs": [
    {
     "ename": "TypeError",
     "evalue": "Key-value pair in latent_vars does not have same shape: (4, 3), (3,)",
     "output_type": "error",
     "traceback": [
      "\u001b[0;31m--------------------------------------\u001b[0m",
      "\u001b[0;31mTypeError\u001b[0mTraceback (most recent call last)",
      "\u001b[0;32m<ipython-input-16-e1f9f6e83673>\u001b[0m in \u001b[0;36m<module>\u001b[0;34m()\u001b[0m\n\u001b[1;32m      2\u001b[0m inference = SGLD({theta: qtheta, phi: qphi, w: qw, z:qz}, \n\u001b[1;32m      3\u001b[0m                   data={w: x_train[:,0], \n\u001b[0;32m----> 4\u001b[0;31m                         d: x_train[:,1]})\n\u001b[0m\u001b[1;32m      5\u001b[0m \u001b[0minference\u001b[0m\u001b[0;34m.\u001b[0m\u001b[0minitialize\u001b[0m\u001b[0;34m\u001b[0m\u001b[0m\n",
      "\u001b[0;32m~/anaconda/envs/edward/lib/python3.6/site-packages/edward/inferences/sgld.py\u001b[0m in \u001b[0;36m__init__\u001b[0;34m(self, *args, **kwargs)\u001b[0m\n\u001b[1;32m     44\u001b[0m   \"\"\"\n\u001b[1;32m     45\u001b[0m   \u001b[0;32mdef\u001b[0m \u001b[0m__init__\u001b[0m\u001b[0;34m(\u001b[0m\u001b[0mself\u001b[0m\u001b[0;34m,\u001b[0m \u001b[0;34m*\u001b[0m\u001b[0margs\u001b[0m\u001b[0;34m,\u001b[0m \u001b[0;34m**\u001b[0m\u001b[0mkwargs\u001b[0m\u001b[0;34m)\u001b[0m\u001b[0;34m:\u001b[0m\u001b[0;34m\u001b[0m\u001b[0m\n\u001b[0;32m---> 46\u001b[0;31m     \u001b[0msuper\u001b[0m\u001b[0;34m(\u001b[0m\u001b[0mSGLD\u001b[0m\u001b[0;34m,\u001b[0m \u001b[0mself\u001b[0m\u001b[0;34m)\u001b[0m\u001b[0;34m.\u001b[0m\u001b[0m__init__\u001b[0m\u001b[0;34m(\u001b[0m\u001b[0;34m*\u001b[0m\u001b[0margs\u001b[0m\u001b[0;34m,\u001b[0m \u001b[0;34m**\u001b[0m\u001b[0mkwargs\u001b[0m\u001b[0;34m)\u001b[0m\u001b[0;34m\u001b[0m\u001b[0m\n\u001b[0m\u001b[1;32m     47\u001b[0m \u001b[0;34m\u001b[0m\u001b[0m\n\u001b[1;32m     48\u001b[0m   \u001b[0;32mdef\u001b[0m \u001b[0minitialize\u001b[0m\u001b[0;34m(\u001b[0m\u001b[0mself\u001b[0m\u001b[0;34m,\u001b[0m \u001b[0mstep_size\u001b[0m\u001b[0;34m=\u001b[0m\u001b[0;36m0.25\u001b[0m\u001b[0;34m,\u001b[0m \u001b[0;34m*\u001b[0m\u001b[0margs\u001b[0m\u001b[0;34m,\u001b[0m \u001b[0;34m**\u001b[0m\u001b[0mkwargs\u001b[0m\u001b[0;34m)\u001b[0m\u001b[0;34m:\u001b[0m\u001b[0;34m\u001b[0m\u001b[0m\n",
      "\u001b[0;32m~/anaconda/envs/edward/lib/python3.6/site-packages/edward/inferences/monte_carlo.py\u001b[0m in \u001b[0;36m__init__\u001b[0;34m(self, latent_vars, data)\u001b[0m\n\u001b[1;32m     90\u001b[0m                            \"a scalar sample shape.\")\n\u001b[1;32m     91\u001b[0m \u001b[0;34m\u001b[0m\u001b[0m\n\u001b[0;32m---> 92\u001b[0;31m     \u001b[0msuper\u001b[0m\u001b[0;34m(\u001b[0m\u001b[0mMonteCarlo\u001b[0m\u001b[0;34m,\u001b[0m \u001b[0mself\u001b[0m\u001b[0;34m)\u001b[0m\u001b[0;34m.\u001b[0m\u001b[0m__init__\u001b[0m\u001b[0;34m(\u001b[0m\u001b[0mlatent_vars\u001b[0m\u001b[0;34m,\u001b[0m \u001b[0mdata\u001b[0m\u001b[0;34m)\u001b[0m\u001b[0;34m\u001b[0m\u001b[0m\n\u001b[0m\u001b[1;32m     93\u001b[0m \u001b[0;34m\u001b[0m\u001b[0m\n\u001b[1;32m     94\u001b[0m   \u001b[0;32mdef\u001b[0m \u001b[0minitialize\u001b[0m\u001b[0;34m(\u001b[0m\u001b[0mself\u001b[0m\u001b[0;34m,\u001b[0m \u001b[0;34m*\u001b[0m\u001b[0margs\u001b[0m\u001b[0;34m,\u001b[0m \u001b[0;34m**\u001b[0m\u001b[0mkwargs\u001b[0m\u001b[0;34m)\u001b[0m\u001b[0;34m:\u001b[0m\u001b[0;34m\u001b[0m\u001b[0m\n",
      "\u001b[0;32m~/anaconda/envs/edward/lib/python3.6/site-packages/edward/inferences/inference.py\u001b[0m in \u001b[0;36m__init__\u001b[0;34m(self, latent_vars, data)\u001b[0m\n\u001b[1;32m     75\u001b[0m       \u001b[0mdata\u001b[0m \u001b[0;34m=\u001b[0m \u001b[0;34m{\u001b[0m\u001b[0;34m}\u001b[0m\u001b[0;34m\u001b[0m\u001b[0m\n\u001b[1;32m     76\u001b[0m \u001b[0;34m\u001b[0m\u001b[0m\n\u001b[0;32m---> 77\u001b[0;31m     \u001b[0mcheck_latent_vars\u001b[0m\u001b[0;34m(\u001b[0m\u001b[0mlatent_vars\u001b[0m\u001b[0;34m)\u001b[0m\u001b[0;34m\u001b[0m\u001b[0m\n\u001b[0m\u001b[1;32m     78\u001b[0m     \u001b[0mself\u001b[0m\u001b[0;34m.\u001b[0m\u001b[0mlatent_vars\u001b[0m \u001b[0;34m=\u001b[0m \u001b[0mlatent_vars\u001b[0m\u001b[0;34m\u001b[0m\u001b[0m\n\u001b[1;32m     79\u001b[0m \u001b[0;34m\u001b[0m\u001b[0m\n",
      "\u001b[0;32m~/anaconda/envs/edward/lib/python3.6/site-packages/edward/util/random_variables.py\u001b[0m in \u001b[0;36mcheck_latent_vars\u001b[0;34m(latent_vars)\u001b[0m\n\u001b[1;32m     78\u001b[0m     \u001b[0;32melif\u001b[0m \u001b[0;32mnot\u001b[0m \u001b[0mkey\u001b[0m\u001b[0;34m.\u001b[0m\u001b[0mshape\u001b[0m\u001b[0;34m.\u001b[0m\u001b[0mis_compatible_with\u001b[0m\u001b[0;34m(\u001b[0m\u001b[0mvalue\u001b[0m\u001b[0;34m.\u001b[0m\u001b[0mshape\u001b[0m\u001b[0;34m)\u001b[0m\u001b[0;34m:\u001b[0m\u001b[0;34m\u001b[0m\u001b[0m\n\u001b[1;32m     79\u001b[0m       raise TypeError(\"Key-value pair in latent_vars does not have same \"\n\u001b[0;32m---> 80\u001b[0;31m                       \"shape: {}, {}\".format(key.shape, value.shape))\n\u001b[0m\u001b[1;32m     81\u001b[0m     \u001b[0;32melif\u001b[0m \u001b[0mkey\u001b[0m\u001b[0;34m.\u001b[0m\u001b[0mdtype\u001b[0m \u001b[0;34m!=\u001b[0m \u001b[0mvalue\u001b[0m\u001b[0;34m.\u001b[0m\u001b[0mdtype\u001b[0m\u001b[0;34m:\u001b[0m\u001b[0;34m\u001b[0m\u001b[0m\n\u001b[1;32m     82\u001b[0m       raise TypeError(\"Key-value pair in latent_vars does not have same \"\n",
      "\u001b[0;31mTypeError\u001b[0m: Key-value pair in latent_vars does not have same shape: (4, 3), (3,)"
     ]
    }
   ],
   "source": [
    "from edward.inferences import SGLD\n",
    "inference = SGLD({theta: qtheta, phi: qphi, w: qw, z:qz}, \n",
    "                  data={w: x_train[:,0], \n",
    "                        d: x_train[:,1]})\n",
    "inference.initialize"
   ]
  },
  {
   "cell_type": "code",
   "execution_count": 17,
   "metadata": {},
   "outputs": [
    {
     "ename": "NotImplementedError",
     "evalue": "Conditional distribution has sufficient statistics (('#Log', ('#x',)), ('#Log', (<tf.Tensor 'Reshape:0' shape=(3,) dtype=float32>, (<tf.Tensor 'Gather:0' shape=(1, 3) dtype=float32>, ('#x',), (<tf.Tensor 'Placeholder:0' shape=(1,) dtype=int32>,)), (<tf.Tensor 'Reshape/shape:0' shape=(1,) dtype=int32>,)))), but no available exponential-family distribution has those sufficient statistics.",
     "output_type": "error",
     "traceback": [
      "\u001b[0;31m--------------------------------------\u001b[0m",
      "\u001b[0;31mNotImplementedError\u001b[0mTraceback (most recent call last)",
      "\u001b[0;32m<ipython-input-17-c90bc2332863>\u001b[0m in \u001b[0;36m<module>\u001b[0;34m()\u001b[0m\n\u001b[1;32m      1\u001b[0m \u001b[0;32mfrom\u001b[0m \u001b[0medward\u001b[0m\u001b[0;34m.\u001b[0m\u001b[0minferences\u001b[0m \u001b[0;32mimport\u001b[0m \u001b[0mGibbs\u001b[0m\u001b[0;34m\u001b[0m\u001b[0m\n\u001b[1;32m      2\u001b[0m inference = Gibbs({theta: qtheta, phi: qphi, w: qw, z:qz}, \n\u001b[0;32m----> 3\u001b[0;31m                   data={w: x_train[:,0], d: x_train[:,1]})\n\u001b[0m\u001b[1;32m      4\u001b[0m \u001b[0minference\u001b[0m\u001b[0;34m.\u001b[0m\u001b[0minitialize\u001b[0m\u001b[0;34m\u001b[0m\u001b[0m\n",
      "\u001b[0;32m~/anaconda/envs/edward/lib/python3.6/site-packages/edward/inferences/gibbs.py\u001b[0m in \u001b[0;36m__init__\u001b[0;34m(self, latent_vars, proposal_vars, data)\u001b[0m\n\u001b[1;32m     44\u001b[0m     \u001b[0;32mif\u001b[0m \u001b[0mproposal_vars\u001b[0m \u001b[0;32mis\u001b[0m \u001b[0;32mNone\u001b[0m\u001b[0;34m:\u001b[0m\u001b[0;34m\u001b[0m\u001b[0m\n\u001b[1;32m     45\u001b[0m       proposal_vars = {z: complete_conditional(z)\n\u001b[0;32m---> 46\u001b[0;31m                        for z in six.iterkeys(latent_vars)}\n\u001b[0m\u001b[1;32m     47\u001b[0m     \u001b[0;32melse\u001b[0m\u001b[0;34m:\u001b[0m\u001b[0;34m\u001b[0m\u001b[0m\n\u001b[1;32m     48\u001b[0m       \u001b[0mcheck_latent_vars\u001b[0m\u001b[0;34m(\u001b[0m\u001b[0mproposal_vars\u001b[0m\u001b[0;34m)\u001b[0m\u001b[0;34m\u001b[0m\u001b[0m\n",
      "\u001b[0;32m~/anaconda/envs/edward/lib/python3.6/site-packages/edward/inferences/gibbs.py\u001b[0m in \u001b[0;36m<dictcomp>\u001b[0;34m(.0)\u001b[0m\n\u001b[1;32m     44\u001b[0m     \u001b[0;32mif\u001b[0m \u001b[0mproposal_vars\u001b[0m \u001b[0;32mis\u001b[0m \u001b[0;32mNone\u001b[0m\u001b[0;34m:\u001b[0m\u001b[0;34m\u001b[0m\u001b[0m\n\u001b[1;32m     45\u001b[0m       proposal_vars = {z: complete_conditional(z)\n\u001b[0;32m---> 46\u001b[0;31m                        for z in six.iterkeys(latent_vars)}\n\u001b[0m\u001b[1;32m     47\u001b[0m     \u001b[0;32melse\u001b[0m\u001b[0;34m:\u001b[0m\u001b[0;34m\u001b[0m\u001b[0m\n\u001b[1;32m     48\u001b[0m       \u001b[0mcheck_latent_vars\u001b[0m\u001b[0;34m(\u001b[0m\u001b[0mproposal_vars\u001b[0m\u001b[0;34m)\u001b[0m\u001b[0;34m\u001b[0m\u001b[0m\n",
      "\u001b[0;32m~/anaconda/envs/edward/lib/python3.6/site-packages/edward/inferences/conjugacy/conjugacy.py\u001b[0m in \u001b[0;36mcomplete_conditional\u001b[0;34m(rv, cond_set)\u001b[0m\n\u001b[1;32m    128\u001b[0m                                 \u001b[0;34m'statistics %s, but no available '\u001b[0m\u001b[0;34m\u001b[0m\u001b[0m\n\u001b[1;32m    129\u001b[0m                                 \u001b[0;34m'exponential-family distribution has those '\u001b[0m\u001b[0;34m\u001b[0m\u001b[0m\n\u001b[0;32m--> 130\u001b[0;31m                                 'sufficient statistics.' % str(dist_key))\n\u001b[0m\u001b[1;32m    131\u001b[0m \u001b[0;34m\u001b[0m\u001b[0m\n\u001b[1;32m    132\u001b[0m     \u001b[0;31m# Swap sufficient statistics for placeholders, then take gradients\u001b[0m\u001b[0;34m\u001b[0m\u001b[0;34m\u001b[0m\u001b[0m\n",
      "\u001b[0;31mNotImplementedError\u001b[0m: Conditional distribution has sufficient statistics (('#Log', ('#x',)), ('#Log', (<tf.Tensor 'Reshape:0' shape=(3,) dtype=float32>, (<tf.Tensor 'Gather:0' shape=(1, 3) dtype=float32>, ('#x',), (<tf.Tensor 'Placeholder:0' shape=(1,) dtype=int32>,)), (<tf.Tensor 'Reshape/shape:0' shape=(1,) dtype=int32>,)))), but no available exponential-family distribution has those sufficient statistics."
     ]
    }
   ],
   "source": [
    "from edward.inferences import Gibbs\n",
    "inference = Gibbs({theta: qtheta, phi: qphi, w: qw, z:qz}, \n",
    "                  data={w: x_train[:,0], d: x_train[:,1]})\n",
    "inference.initialize"
   ]
  },
  {
   "cell_type": "code",
   "execution_count": null,
   "metadata": {},
   "outputs": [],
   "source": []
  }
 ],
 "metadata": {
  "kernelspec": {
   "display_name": "Python [edward]",
   "language": "python",
   "name": "Python [edward]"
  },
  "language_info": {
   "codemirror_mode": {
    "name": "ipython",
    "version": 3
   },
   "file_extension": ".py",
   "mimetype": "text/x-python",
   "name": "python",
   "nbconvert_exporter": "python",
   "pygments_lexer": "ipython3",
   "version": "3.6.4"
  }
 },
 "nbformat": 4,
 "nbformat_minor": 2
}
