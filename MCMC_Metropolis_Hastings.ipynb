{
 "cells": [
  {
   "cell_type": "markdown",
   "metadata": {},
   "source": [
    "# Metropolis Algorithm Markov Chain Monte Carlo"
   ]
  },
  {
   "cell_type": "code",
   "execution_count": 186,
   "metadata": {},
   "outputs": [],
   "source": [
    "import numpy as np\n",
    "import scipy.stats as sp\n",
    "import matplotlib.pyplot as plt\n",
    "import functools\n",
    "import pdb"
   ]
  },
  {
   "cell_type": "markdown",
   "metadata": {},
   "source": [
    "First example found here: https://arxiv.org/pdf/1504.01896.pdf"
   ]
  },
  {
   "cell_type": "code",
   "execution_count": 6,
   "metadata": {},
   "outputs": [],
   "source": [
    "def sinus_normal(x):\n",
    "    return np.sin(x)**2 * np.sin(2*x)**2 * sp.norm.pdf(x)"
   ]
  },
  {
   "cell_type": "code",
   "execution_count": 15,
   "metadata": {},
   "outputs": [
    {
     "data": {
      "image/png": "[encoded data removed]",
      "text/plain": [
       "<matplotlib.figure.Figure at 0x119841b00>"
      ]
     },
     "metadata": {},
     "output_type": "display_data"
    }
   ],
   "source": [
    "test = [sinus_normal(x) for x in np.arange(-4.,4.,0.01)]\n",
    "plt.plot(np.arange(-4.,4.,0.01), test)\n",
    "plt.show()"
   ]
  },
  {
   "cell_type": "markdown",
   "metadata": {},
   "source": [
    "**Why does the Metropolis(-Hastings) algorithm work for our posterior distribution?**\n",
    "\n",
    "The problem with the posterior distribution is that the denominator is hard to calculate (or *intractable*). Fortunately for us, the idea of the Metropolis sampling is to jump to a proposed value $x'$ if the *relative* density at that point is higher. That means that we evaluate $P(x'|D)/P(x|D)$. Remember that $P(x|D) = \\frac{P(D|x) P(x)}{P(D)}$, where the part $P(D)$ is intractable. For the ratio, we calculate \n",
    "\n",
    "$$ \\frac{ \n",
    "\\frac{P(D|x') P(x')}{P(D)}}{\n",
    "\\frac{P(D|x) P(x)}{P(D)}\n",
    "} = \\frac{ \n",
    "P(D|x') P(x')}{\n",
    "P(D|x) P(x)\n",
    "}.$$\n",
    "\n",
    "The complicated part $P(D)$ drops out, because it is the same for any parameter choice of our model and we can sample as much as we want without having to calculate it."
   ]
  },
  {
   "cell_type": "code",
   "execution_count": 92,
   "metadata": {},
   "outputs": [],
   "source": [
    "def metropolis(start_value, n_iter, density, proposal_distribution):\n",
    "    chain = np.zeros([n_iter])\n",
    "    chain_acceptance_ratio = np.zeros([n_iter])\n",
    "    \n",
    "    x = start_value\n",
    "    x_density = density(x)\n",
    "    chain[0] = x\n",
    "    \n",
    "    for i in range(1,n_iter):\n",
    "        candidate_x = np.float64(proposal_distribution(x)) # naturally handle /0\n",
    "        candidate_x_density = np.float64(density(candidate_x))\n",
    "        \n",
    "        acceptance_ratio = candidate_x_density/x_density\n",
    "        if np.isnan(acceptance_ratio):\n",
    "            acceptance_ratio = 0.\n",
    "        acceptance_ratio = min(acceptance_ratio, 1)\n",
    "        \n",
    "        random_u = np.random.uniform(0,1)\n",
    "        if random_u <= acceptance_ratio:\n",
    "            x = candidate_x\n",
    "            x_density = candidate_x_density\n",
    "        \n",
    "        chain[i] = x\n",
    "        chain_acceptance_ratio[i] = acceptance_ratio\n",
    "    \n",
    "    return chain,chain_acceptance_ratio"
   ]
  },
  {
   "cell_type": "markdown",
   "metadata": {},
   "source": [
    "We have a way to evaluate a proposal by the acceptance ratio, but we haven't defined a way to pick a candidate $x'$ yet. This choice is important. \n",
    "\n",
    "If we jump to much between candidates, e.g. from 1 to 100, the chance is high that we end up in areas with low probability density and won't accept the proposal. If we jump too little, e.g. from 1 to 1.005, we will have to jump many times to explore the full range between -4 and 4.\n",
    "\n",
    "A good proposal distribution generates a random walk by jumping from the last point in the chain and has a jump size that leads to an acceptance rate that is not too high and not too low. \n",
    "\n",
    "TODO: Roberts et al. (1997) suggest that for a Gaussian proposal distribution the optimal acceptance rate should be 0.25. \n",
    "*Roberts, G., Gelman, A., and Gilks, W. (1997). “Weak convergence and optimal scaling of\n",
    "random walk Metropolis algorithms.” Ann. Applied Prob., 7: 110–120.*"
   ]
  },
  {
   "cell_type": "code",
   "execution_count": 122,
   "metadata": {},
   "outputs": [],
   "source": [
    "def normal_proposal(x):\n",
    "    return np.random.normal(x, 1) # The precision defines the jump size"
   ]
  },
  {
   "cell_type": "code",
   "execution_count": 100,
   "metadata": {},
   "outputs": [
    {
     "name": "stderr",
     "output_type": "stream",
     "text": [
      "/Users/maj/anaconda/envs/bayesian/lib/python3.6/site-packages/ipykernel_launcher.py:13: RuntimeWarning: divide by zero encountered in double_scalars\n",
      "  del sys.path[0]\n"
     ]
    }
   ],
   "source": [
    "test,alpha = metropolis(0, 10000, sinus_normal, normal_proposal)"
   ]
  },
  {
   "cell_type": "code",
   "execution_count": 104,
   "metadata": {},
   "outputs": [
    {
     "data": {
      "image/png": "[encoded data removed]",
      "text/plain": [
       "<matplotlib.figure.Figure at 0x11addeeb8>"
      ]
     },
     "metadata": {},
     "output_type": "display_data"
    }
   ],
   "source": [
    "plt.hist(test, bins=100)\n",
    "plt.show()"
   ]
  },
  {
   "cell_type": "markdown",
   "metadata": {},
   "source": [
    "**What happens if we pick a start value that's completely off?**\n",
    "\n",
    "As long as the proposal distribution has a reasonable chance to jump to a point with density above zero, then the chain will eventually reach the interesting part of the distribution and explore it. Since the path to the areas with the highest density may take some iterations, it is common practice to drop the first *n* observations, which are called *burn-in*."
   ]
  },
  {
   "cell_type": "code",
   "execution_count": 118,
   "metadata": {},
   "outputs": [],
   "source": [
    "test,alpha = metropolis(10, 10000, sinus_normal, normal_proposal)"
   ]
  },
  {
   "cell_type": "code",
   "execution_count": 121,
   "metadata": {},
   "outputs": [
    {
     "data": {
      "image/png": "[encoded data removed]",
      "text/plain": [
       "<matplotlib.figure.Figure at 0x11b671fd0>"
      ]
     },
     "metadata": {},
     "output_type": "display_data"
    },
    {
     "data": {
      "image/png": "[encoded data removed]",
      "text/plain": [
       "<matplotlib.figure.Figure at 0x11b1ef780>"
      ]
     },
     "metadata": {},
     "output_type": "display_data"
    }
   ],
   "source": [
    "plt.hist(test, bins=100) # Start value off, no burn-in\n",
    "plt.show()\n",
    "plt.hist(test[500:], bins=100) # With a burn-in of 500\n",
    "plt.show()"
   ]
  },
  {
   "cell_type": "markdown",
   "metadata": {},
   "source": [
    "TODO: Extend to Metropolis Hastings by including the ratio q(x|y)/q(y|x) to correct for asymmetric proposal distributions\n",
    "\n",
    "TODO: Look at autocorrelation and explain effective sample size "
   ]
  },
  {
   "cell_type": "markdown",
   "metadata": {},
   "source": [
    "## Regression example"
   ]
  },
  {
   "cell_type": "markdown",
   "metadata": {},
   "source": [
    "Let's apply this to a model that we are comfortable with: Regression. As in any statistics class, we'll assume that the come from the following data generating process:\n",
    "\n",
    "$y_i = x_i'\\beta + \\epsilon_i$ with $\\epsilon \\sim N(0, \\sigma^2)$\n",
    "\n",
    "We will ignore the constant $\\beta_0$ to keep things as simple as possible, but we can image that the data is standardized to mean 0 or includes a column $1_n$.\n",
    "\n",
    "In the Bayesian setting, it's convenient to write this down as\n",
    "\n",
    "$y_i \\sim N(x_i'\\beta, \\sigma^2)$. \n",
    "\n",
    "Aside: Where did the $\\epsilon$ go? If there were no error, then $y$ would be completely determined by $x$. The error was just another way of formalizing that $y$ tends to fall close to some value that is determined by the combination of $x$. How far away it tends to fall away from the value explained by $x$ is formalized by a variance $\\sigma^2$, which we see in the definition of $\\epsilon$ and in the definition of $y$ for the Bayesian model specification. \n",
    "\n",
    "Because many of the derivations work out nicer if we don't use $\\sigma^2$ but its inverse, we will replace $\\sigma^2$ with $\\tau = 1/\\sigma^2$ from now on. $\\tau$ is called the *precision* and in the cause of our $y$ it describes how precisely the $x$s predict $y$."
   ]
  },
  {
   "cell_type": "code",
   "execution_count": 253,
   "metadata": {},
   "outputs": [],
   "source": [
    "def generate_data(n, beta, tau):\n",
    "    X = np.random.normal(0,2,size=[n, len(beta)])\n",
    "    # ATTENTION: numpy works with the standard deviation (scale) instead of the variance\n",
    "    y = np.dot(X,beta) + np.random.normal(0, 1/np.sqrt(tau))\n",
    "    return X, y"
   ]
  },
  {
   "cell_type": "code",
   "execution_count": 254,
   "metadata": {},
   "outputs": [],
   "source": [
    "X_train, y_train = generate_data(5000, [-1, 1, 2], 1)"
   ]
  },
  {
   "cell_type": "markdown",
   "metadata": {},
   "source": [
    "Derive the likelihood\n",
    "\n",
    "TODO: Show the full derivation step-by-step"
   ]
  },
  {
   "cell_type": "code",
   "execution_count": 255,
   "metadata": {},
   "outputs": [],
   "source": [
    "def regression_log_likelihood(y, X, beta, tau):\n",
    "    \n",
    "    log_likelihood_x = sp.norm.logpdf(y,  # True value\n",
    "                loc=np.dot(X,beta), # Predicted value\n",
    "                scale= 1/np.sqrt(tau) # Estimated error variance\n",
    "                )          \n",
    "                                      \n",
    "    log_likelihood = np.sum(log_likelihood_x)\n",
    "    return log_likelihood\n",
    "\n",
    "regression_log_likelihood = functools.partial(regression_log_likelihood, y=y_train, X=X_train)"
   ]
  },
  {
   "cell_type": "markdown",
   "metadata": {},
   "source": [
    "Define the priors\n",
    "\n",
    "TODO: Link to explanation of how to choose priors"
   ]
  },
  {
   "cell_type": "code",
   "execution_count": 256,
   "metadata": {},
   "outputs": [],
   "source": [
    "def regression_log_prior(beta,tau):\n",
    "    beta_prior_probability = np.sum(sp.norm.logpdf(beta, \n",
    "                                            loc=[0]*np.ones(len(beta)), # Pull towards 0\n",
    "                                            scale = 1/np.sqrt([3])*np.ones(len(beta))))\n",
    "    # Gamma distribution is always positive\n",
    "    #sigma_prior_probability = sp.gamma.logpdf(sigma2, a=1, scale=0.5)\n",
    "    #tau_prior_probability = sp.truncnorm.logpdf(tau, a=0, b=np.inf, \n",
    "    #                                            loc=0,scale=1/np.sqrt(0.25))\n",
    "    tau_prior_probability = sp.uniform.logpdf(tau, 0, 100)\n",
    "    log_likelihood = np.sum([beta_prior_probability, tau_prior_probability])\n",
    "    return log_likelihood"
   ]
  },
  {
   "cell_type": "markdown",
   "metadata": {},
   "source": [
    "Define a proposal distribution\n",
    "\n",
    "For the random walk metropolis algorithm, we pick a candidate given the previous value.\n",
    "The variance/precision of the proposal distribution determines how far we jump away from the previous value. How far we jump influences how many of the candidates we will accept. We expect that jumping far from the previous (and therefore previously accepted) value will lead to a lower acceptance rate. We expect that jumping very close to the previous value will make us move very slowly around the likely values. \n",
    "\n",
    "TODO: Explain that better."
   ]
  },
  {
   "cell_type": "code",
   "execution_count": 257,
   "metadata": {},
   "outputs": [],
   "source": [
    "def regression_proposal(beta, tau):\n",
    "    beta = np.random.normal(beta, 1/np.sqrt(10000))\n",
    "    tau = np.random.normal(loc=tau, scale=1/np.sqrt(4000))\n",
    "    return beta,tau"
   ]
  },
  {
   "cell_type": "markdown",
   "metadata": {},
   "source": [
    "The Metropolis Algorithm\n",
    "We don't correct for asymmetric proposal distributions here, which would be the extension proposed by Hastings. We don't have to, because our proposal distributions are *Gaussian/Normal* and the bell curve is symmetric. \n"
   ]
  },
  {
   "cell_type": "markdown",
   "metadata": {},
   "source": [
    "We calculate the acceptance ratio $\\alpha$ as a measure of how much more likely the observed data is given the proposed candidate parameter values for $\\beta$ and $\\tau$ than it is under the previous values: \n",
    "\n",
    "$\\alpha = \\frac{p(\\beta_{candidate},\\tau_{candidate}|y,X)}{p(\\beta_{old},\\tau_{old}|y,X)}$\n",
    "\n",
    "$p(\\beta,\\tau|y,X)$ is the *posterior distribution*, our belief that the parameters take a certain value after we have seen the data. By the Bayesian formula, \n",
    "\n",
    "$p(\\beta,\\tau|y,X) = \\frac{p(y,X|\\beta,\\tau) * p(\\beta,\\tau)}{p(X,y)}$. \n",
    "\n",
    "As usual when working with the Bayes formula, $p(X,y)$ is hard to calculate. Fortunately for us, it cancels out in the calculation for $\\alpha$. We therefore calculate $p(y,X|\\beta,\\tau) * p(\\beta,\\tau)$ for the candidate and old values of the parameter in the code."
   ]
  },
  {
   "cell_type": "code",
   "execution_count": 258,
   "metadata": {},
   "outputs": [],
   "source": [
    "def metropolis(start_value_beta, start_value_tau, \n",
    "               n_iter, likelihood_distribution, prior_distribution,proposal_distribution):\n",
    "    chain = np.zeros([n_iter, len(start_value_beta)+len(start_value_tau)])\n",
    "    chain_acceptance_ratio = np.zeros([n_iter])\n",
    "    \n",
    "    # The posterior p(b,t|X,y) is p(y,X|b,t) * p(b,t)\n",
    "    # log p(b,t|X,y) is log p(y,X|b,t) + log p(b,t)\n",
    "    def posterior(beta, tau):\n",
    "        log_likelihood = likelihood_distribution(beta=beta, tau=tau)\n",
    "        log_prior = prior_distribution(beta,tau)\n",
    "        log_posterior = np.sum([log_likelihood, log_prior])\n",
    "        return log_posterior\n",
    "    \n",
    "    beta = start_value_beta\n",
    "    tau = start_value_tau\n",
    "    current_posterior = posterior(beta=beta, tau=tau)\n",
    "    chain[0,:] = np.concatenate([beta,tau])\n",
    "    \n",
    "    #pdb.set_trace()\n",
    "    \n",
    "    for i in range(1,n_iter):\n",
    "        candidate_beta, candidate_tau = proposal_distribution(beta,tau) \n",
    "        candidate_posterior = posterior(beta=candidate_beta, tau=candidate_tau)\n",
    "        \n",
    "        # Careful here: \n",
    "        # ln(acc_ratio) = ln(post'/post) = ln_post - ln_post\n",
    "        # -> acc_ratio = exp(ln_post' - ln_post)\n",
    "        acceptance_ratio = np.exp(candidate_posterior - current_posterior)\n",
    "        \n",
    "        # Limit to maximum 1 since it should be probability of acceptance\n",
    "        acceptance_ratio = min(acceptance_ratio, 1)\n",
    "        \n",
    "        # Acceptance as a 0/1 choice with probability equal to acceptance ratio\n",
    "        accept_bin = np.random.binomial(n=1,p=acceptance_ratio)\n",
    "        if accept_bin == 1:\n",
    "            # Exchange the old values for the proposed\n",
    "            beta, tau = candidate_beta, candidate_tau\n",
    "            current_posterior = candidate_posterior\n",
    "        \n",
    "        # Save the values at iteration i\n",
    "        chain[i,:] = np.append(beta,tau)\n",
    "        chain_acceptance_ratio[i] = acceptance_ratio\n",
    "    \n",
    "    return chain,chain_acceptance_ratio"
   ]
  },
  {
   "cell_type": "code",
   "execution_count": 264,
   "metadata": {},
   "outputs": [],
   "source": [
    "test,alpha = metropolis(start_value_beta = np.array([0,0,0]), \n",
    "                        start_value_tau = np.array([0.5]), \n",
    "                        n_iter = 30000, \n",
    "                        likelihood_distribution = regression_log_likelihood,\n",
    "                        prior_distribution = regression_log_prior,\n",
    "                        proposal_distribution = regression_proposal)"
   ]
  },
  {
   "cell_type": "markdown",
   "metadata": {},
   "source": [
    "Check the acceptance ratio. The acceptance ratio x number of iterations is the number of samples that we do not throw away. "
   ]
  },
  {
   "cell_type": "code",
   "execution_count": 268,
   "metadata": {},
   "outputs": [
    {
     "data": {
      "text/plain": [
       "0.1927171993682289"
      ]
     },
     "execution_count": 268,
     "metadata": {},
     "output_type": "execute_result"
    }
   ],
   "source": [
    "np.mean(alpha)"
   ]
  },
  {
   "cell_type": "code",
   "execution_count": 270,
   "metadata": {},
   "outputs": [
    {
     "data": {
      "image/png": "[encoded data removed]",
      "text/plain": [
       "<Figure size 432x288 with 1 Axes>"
      ]
     },
     "metadata": {},
     "output_type": "display_data"
    },
    {
     "data": {
      "image/png": "[encoded data removed]",
      "text/plain": [
       "<Figure size 432x288 with 1 Axes>"
      ]
     },
     "metadata": {},
     "output_type": "display_data"
    }
   ],
   "source": [
    "plt.hist(test[5000:,3], bins=100) # Start value off, no burn-in\n",
    "plt.show()\n",
    "plt.hist(test[500:, 3], bins=100) # With a burn-in of 500\n",
    "plt.show()"
   ]
  },
  {
   "cell_type": "code",
   "execution_count": 267,
   "metadata": {},
   "outputs": [
    {
     "data": {
      "text/plain": [
       "1.9411138531046006"
      ]
     },
     "execution_count": 267,
     "metadata": {},
     "output_type": "execute_result"
    }
   ],
   "source": [
    "np.mean(test[5000:,3])"
   ]
  },
  {
   "cell_type": "markdown",
   "metadata": {},
   "source": [
    "TODO: We seem to consistently and substantially overestimate the variance to 2 instead of 1. Why is that?"
   ]
  },
  {
   "cell_type": "markdown",
   "metadata": {},
   "source": [
    "TODO: Are independent Metropolis-Hastings at all interesting? What happens to the Hastings correction in the independent case (it doesn't drop out) --> This actually explains why the acceptance rate becomes 1 in Gibbs sampling (where g() = q())"
   ]
  },
  {
   "cell_type": "code",
   "execution_count": null,
   "metadata": {},
   "outputs": [],
   "source": []
  }
 ],
 "metadata": {
  "kernelspec": {
   "display_name": "Python [pymc]",
   "language": "python",
   "name": "Python [pymc]"
  },
  "language_info": {
   "codemirror_mode": {
    "name": "ipython",
    "version": 3
   },
   "file_extension": ".py",
   "mimetype": "text/x-python",
   "name": "python",
   "nbconvert_exporter": "python",
   "pygments_lexer": "ipython3",
   "version": "3.6.6"
  }
 },
 "nbformat": 4,
 "nbformat_minor": 2
}
