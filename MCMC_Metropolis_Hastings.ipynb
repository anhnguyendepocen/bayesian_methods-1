{
 "cells": [
  {
   "cell_type": "markdown",
   "metadata": {},
   "source": [
    "# Metropolis-Hastings Markov Chain Monte Carlo"
   ]
  },
  {
   "cell_type": "code",
   "execution_count": 1,
   "metadata": {},
   "outputs": [],
   "source": [
    "import numpy as np\n",
    "import scipy.stats as sp\n",
    "import matplotlib.pyplot as plt\n",
    "import functools\n",
    "import pdb"
   ]
  },
  {
   "cell_type": "markdown",
   "metadata": {},
   "source": [
    "First example found here: https://arxiv.org/pdf/1504.01896.pdf"
   ]
  },
  {
   "cell_type": "code",
   "execution_count": 6,
   "metadata": {},
   "outputs": [],
   "source": [
    "def sinus_normal(x):\n",
    "    return np.sin(x)**2 * np.sin(2*x)**2 * sp.norm.pdf(x)"
   ]
  },
  {
   "cell_type": "code",
   "execution_count": 15,
   "metadata": {},
   "outputs": [
    {
     "data": {
      "image/png": "[encoded data removed]",
      "text/plain": [
       "<matplotlib.figure.Figure at 0x119841b00>"
      ]
     },
     "metadata": {},
     "output_type": "display_data"
    }
   ],
   "source": [
    "test = [sinus_normal(x) for x in np.arange(-4.,4.,0.01)]\n",
    "plt.plot(np.arange(-4.,4.,0.01), test)\n",
    "plt.show()"
   ]
  },
  {
   "cell_type": "markdown",
   "metadata": {},
   "source": [
    "**Why does the Metropolis(-Hastings) algorithm work for our posterior distribution?**\n",
    "\n",
    "The problem with the posterior distribution is that the denominator is hard to calculate (or *intractable*). Fortunately for us, the idea of the Metropolis sampling is to jump to a proposed value $x'$ if the *relative* density at that point is higher. That means that we evaluate $P(x'|D)/P(x|D)$. Remember that $P(x|D) = \\frac{P(D|x) P(x)}{P(D)}$, where the part $P(D)$ is intractable. For the ratio, we calculate \n",
    "\n",
    "$$ \\frac{ \n",
    "\\frac{P(D|x') P(x')}{P(D)}}{\n",
    "\\frac{P(D|x) P(x)}{P(D)}\n",
    "} = \\frac{ \n",
    "P(D|x') P(x')}{\n",
    "P(D|x) P(x)\n",
    "}.$$\n",
    "\n",
    "The complicated part $P(D)$ drops out, because it is the same for any parameter choice of our model and we can sample as much as we want without having to calculate it."
   ]
  },
  {
   "cell_type": "code",
   "execution_count": 92,
   "metadata": {},
   "outputs": [],
   "source": [
    "def metropolis(start_value, n_iter, density, proposal_distribution):\n",
    "    chain = np.zeros([n_iter])\n",
    "    chain_acceptance_ratio = np.zeros([n_iter])\n",
    "    \n",
    "    x = start_value\n",
    "    x_density = density(x)\n",
    "    chain[0] = x\n",
    "    \n",
    "    for i in range(1,n_iter):\n",
    "        candidate_x = np.float64(proposal_distribution(x)) # naturally handle /0\n",
    "        candidate_x_density = np.float64(density(candidate_x))\n",
    "        \n",
    "        acceptance_ratio = candidate_x_density/x_density\n",
    "        if np.isnan(acceptance_ratio):\n",
    "            acceptance_ratio = 0.\n",
    "        acceptance_ratio = min(acceptance_ratio, 1)\n",
    "        \n",
    "        random_u = np.random.uniform(0,1)\n",
    "        if random_u <= acceptance_ratio:\n",
    "            x = candidate_x\n",
    "            x_density = candidate_x_density\n",
    "        \n",
    "        chain[i] = x\n",
    "        chain_acceptance_ratio[i] = acceptance_ratio\n",
    "    \n",
    "    return chain,chain_acceptance_ratio"
   ]
  },
  {
   "cell_type": "markdown",
   "metadata": {},
   "source": [
    "We have a way to evaluate a proposal by the acceptance ratio, but we haven't defined a way to pick a candidate $x'$ yet. This choice is important. \n",
    "\n",
    "If we jump to much between candidates, e.g. from 1 to 100, the chance is high that we end up in areas with low probability density and won't accept the proposal. If we jump too little, e.g. from 1 to 1.005, we will have to jump many times to explore the full range between -4 and 4.\n",
    "\n",
    "A good proposal distribution generates a random walk by jumping from the last point in the chain and has a jump size that leads to an acceptance rate that is not too high and not too low. \n",
    "\n",
    "TODO: Roberts et al. (1997) suggest that for a Gaussian proposal distribution the optimal acceptance rate should be 0.25. \n",
    "*Roberts, G., Gelman, A., and Gilks, W. (1997). “Weak convergence and optimal scaling of\n",
    "random walk Metropolis algorithms.” Ann. Applied Prob., 7: 110–120.*"
   ]
  },
  {
   "cell_type": "code",
   "execution_count": 122,
   "metadata": {},
   "outputs": [],
   "source": [
    "def normal_proposal(x):\n",
    "    return np.random.normal(x, 1) # The precision defines the jump size"
   ]
  },
  {
   "cell_type": "code",
   "execution_count": 100,
   "metadata": {},
   "outputs": [
    {
     "name": "stderr",
     "output_type": "stream",
     "text": [
      "/Users/maj/anaconda/envs/bayesian/lib/python3.6/site-packages/ipykernel_launcher.py:13: RuntimeWarning: divide by zero encountered in double_scalars\n",
      "  del sys.path[0]\n"
     ]
    }
   ],
   "source": [
    "test,alpha = metropolis(0, 10000, sinus_normal, normal_proposal)"
   ]
  },
  {
   "cell_type": "code",
   "execution_count": 104,
   "metadata": {},
   "outputs": [
    {
     "data": {
      "image/png": "[encoded data removed]",
      "text/plain": [
       "<matplotlib.figure.Figure at 0x11addeeb8>"
      ]
     },
     "metadata": {},
     "output_type": "display_data"
    }
   ],
   "source": [
    "plt.hist(test, bins=100)\n",
    "plt.show()"
   ]
  },
  {
   "cell_type": "markdown",
   "metadata": {},
   "source": [
    "**What happens if we pick a start value that's completely off?**\n",
    "\n",
    "As long as the proposal distribution has a reasonable chance to jump to a point with density above zero, then the chain will eventually reach the interesting part of the distribution and explore it. Since the path to the areas with the highest density may take some iterations, it is common practice to drop the first *n* observations, which are called *burn-in*."
   ]
  },
  {
   "cell_type": "code",
   "execution_count": 118,
   "metadata": {},
   "outputs": [],
   "source": [
    "test,alpha = metropolis(10, 10000, sinus_normal, normal_proposal)"
   ]
  },
  {
   "cell_type": "code",
   "execution_count": 121,
   "metadata": {},
   "outputs": [
    {
     "data": {
      "image/png": "[encoded data removed]",
      "text/plain": [
       "<matplotlib.figure.Figure at 0x11b671fd0>"
      ]
     },
     "metadata": {},
     "output_type": "display_data"
    },
    {
     "data": {
      "image/png": "[encoded data removed]",
      "text/plain": [
       "<matplotlib.figure.Figure at 0x11b1ef780>"
      ]
     },
     "metadata": {},
     "output_type": "display_data"
    }
   ],
   "source": [
    "plt.hist(test, bins=100) # Start value off, no burn-in\n",
    "plt.show()\n",
    "plt.hist(test[500:], bins=100) # With a burn-in of 500\n",
    "plt.show()"
   ]
  },
  {
   "cell_type": "markdown",
   "metadata": {},
   "source": [
    "TODO: Extend to Metropolis Hastings by including the ratio q(x|y)/q(y|x) to correct for asymmetric proposal distributions\n",
    "\n",
    "TODO: Look at autocorrelation and explain effective sample size "
   ]
  },
  {
   "cell_type": "markdown",
   "metadata": {},
   "source": [
    "## Regression example"
   ]
  },
  {
   "cell_type": "code",
   "execution_count": 233,
   "metadata": {},
   "outputs": [],
   "source": [
    "def generate_data(n, beta, sigma2):\n",
    "    X = np.random.normal(0,2,size=[n, len(beta)])\n",
    "    y = np.dot(X,beta) + np.random.normal(0, sigma2)\n",
    "    return X, y"
   ]
  },
  {
   "cell_type": "code",
   "execution_count": 234,
   "metadata": {},
   "outputs": [],
   "source": [
    "X_train, y_train = generate_data(5000, [-1, 1, 2], 1)"
   ]
  },
  {
   "cell_type": "code",
   "execution_count": 235,
   "metadata": {},
   "outputs": [],
   "source": [
    "def regression_log_likelihood(y, X, beta, sigma2):\n",
    "    log_likelihood_x = sp.norm.logpdf(y,  # True value\n",
    "                loc=np.dot(X,beta), # Predicted value\n",
    "                scale=sigma2 # Estimated error variance\n",
    "                )          \n",
    "                                      \n",
    "    log_likelihood = np.sum(log_likelihood_x)\n",
    "    return log_likelihood\n",
    "\n",
    "regression_log_likelihood = functools.partial(regression_log_likelihood, y=y_train, X=X_train)"
   ]
  },
  {
   "cell_type": "code",
   "execution_count": 252,
   "metadata": {},
   "outputs": [],
   "source": [
    "def regression_log_prior(beta,sigma2):\n",
    "    beta_prior_probability = np.sum(sp.norm.logpdf(beta, \n",
    "                                            loc=[0]*len(beta), # Pull towards 0\n",
    "                                            scale = [3]*len(beta)))\n",
    "    # Gamma distribution is always positive\n",
    "    #sigma_prior_probability = sp.gamma.logpdf(sigma2, a=1, scale=0.5)\n",
    "    sigma_prior_probability = sp.truncnorm.logpdf(sigma2, a=0, b=np.inf, loc=0,scale=2)\n",
    "    log_likelihood = np.sum([beta_prior_probability, sigma_prior_probability])\n",
    "    return log_likelihood"
   ]
  },
  {
   "cell_type": "code",
   "execution_count": 258,
   "metadata": {},
   "outputs": [],
   "source": [
    "def regression_proposal(beta, sigma2):\n",
    "    beta = np.float64(np.random.normal(beta, 0.02))\n",
    "    sigma2 = np.float64(np.random.normal(sigma2, 0.02))\n",
    "    return beta,sigma2"
   ]
  },
  {
   "cell_type": "code",
   "execution_count": 259,
   "metadata": {},
   "outputs": [],
   "source": [
    "def metropolis(start_value_beta, start_value_sigma2, \n",
    "               n_iter, likelihood_distribution, prior_distribution,proposal_distribution):\n",
    "    chain = np.zeros([n_iter, len(start_value_beta)+len(start_value_sigma2)])\n",
    "    chain_acceptance_ratio = np.zeros([n_iter])\n",
    "    \n",
    "    def posterior(beta, sigma2):\n",
    "        log_likelihood = likelihood_distribution(beta=beta, sigma2=sigma2)\n",
    "        log_prior = prior_distribution(beta,sigma2)\n",
    "        log_posterior = np.sum([log_likelihood, log_prior])\n",
    "        return log_posterior\n",
    "    \n",
    "    beta = start_value_beta\n",
    "    sigma2 = start_value_sigma2\n",
    "    current_posterior = posterior(beta=beta, sigma2=sigma2)\n",
    "    chain[0,:] = np.concatenate([beta,sigma2])\n",
    "    \n",
    "    #pdb.set_trace()\n",
    "    \n",
    "    for i in range(1,n_iter):\n",
    "        candidate_beta, candidate_sigma2 = proposal_distribution(beta,sigma2) # naturally handle /0\n",
    "        candidate_posterior = posterior(beta=candidate_beta, sigma2=candidate_sigma2)\n",
    "        \n",
    "        # Careful here: \n",
    "        # ln(acc_ratio) = ln(post'/post) = ln_post - ln_post\n",
    "        # -> acc_ratio = exp(ln_post' - ln_post)\n",
    "        acceptance_ratio = np.exp(candidate_posterior - current_posterior)\n",
    "        #if np.isnan(acceptance_ratio):\n",
    "        #    acceptance_ratio = 0.\n",
    "        acceptance_ratio = min(acceptance_ratio, 1)\n",
    "        \n",
    "        random_u = np.random.uniform(0,1)\n",
    "        if random_u <= acceptance_ratio:\n",
    "            beta, sigma2 = candidate_beta, candidate_sigma2\n",
    "            current_posterior = candidate_posterior\n",
    "        \n",
    "        chain[i,:] = np.append(beta,sigma2)\n",
    "        chain_acceptance_ratio[i] = acceptance_ratio\n",
    "    \n",
    "    return chain,chain_acceptance_ratio"
   ]
  },
  {
   "cell_type": "code",
   "execution_count": 260,
   "metadata": {},
   "outputs": [
    {
     "name": "stderr",
     "output_type": "stream",
     "text": [
      "/Users/maj/anaconda/envs/bayesian/lib/python3.6/site-packages/ipykernel_launcher.py:26: RuntimeWarning: overflow encountered in exp\n"
     ]
    }
   ],
   "source": [
    "test,alpha = metropolis([0,0,0], [0.2], \n",
    "                        n_iter = 20000, \n",
    "                        likelihood_distribution = regression_log_likelihood,\n",
    "                        prior_distribution = regression_log_prior,\n",
    "                        proposal_distribution = regression_proposal)"
   ]
  },
  {
   "cell_type": "code",
   "execution_count": 261,
   "metadata": {},
   "outputs": [
    {
     "data": {
      "text/plain": [
       "0.14768272820292708"
      ]
     },
     "execution_count": 261,
     "metadata": {},
     "output_type": "execute_result"
    }
   ],
   "source": [
    "np.mean(alpha)"
   ]
  },
  {
   "cell_type": "code",
   "execution_count": 267,
   "metadata": {},
   "outputs": [
    {
     "data": {
      "image/png": "[encoded data removed]",
      "text/plain": [
       "<matplotlib.figure.Figure at 0x10e484240>"
      ]
     },
     "metadata": {},
     "output_type": "display_data"
    }
   ],
   "source": [
    "plt.hist(test[1000:,2], bins=100) # Start value off, no burn-in\n",
    "plt.show()\n",
    "#plt.hist(test[500:], bins=100) # With a burn-in of 500\n",
    "#plt.show()"
   ]
  },
  {
   "cell_type": "markdown",
   "metadata": {},
   "source": [
    "TODO: We seem to consistently and substantially overestimate the variance to 1.4 instead of 1. Why is that?"
   ]
  },
  {
   "cell_type": "code",
   "execution_count": null,
   "metadata": {},
   "outputs": [],
   "source": []
  }
 ],
 "metadata": {
  "kernelspec": {
   "display_name": "Python 3",
   "language": "python",
   "name": "python3"
  },
  "language_info": {
   "codemirror_mode": {
    "name": "ipython",
    "version": 3
   },
   "file_extension": ".py",
   "mimetype": "text/x-python",
   "name": "python",
   "nbconvert_exporter": "python",
   "pygments_lexer": "ipython3",
   "version": "3.6.2"
  }
 },
 "nbformat": 4,
 "nbformat_minor": 2
}
