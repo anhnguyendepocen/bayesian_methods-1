{
 "cells": [
  {
   "cell_type": "markdown",
   "metadata": {},
   "source": [
    "# Gibbs sampling"
   ]
  },
  {
   "cell_type": "markdown",
   "metadata": {},
   "source": [
    "https://en.wikipedia.org/wiki/Conjugate_prior\n",
    "https://kieranrcampbell.github.io/blog/2016/05/15/gibbs-sampling-bayesian-linear-regression.html"
   ]
  },
  {
   "cell_type": "markdown",
   "metadata": {},
   "source": [
    "https://stablemarkets.wordpress.com/2018/03/16/speeding-up-metropolis-hastings-with-rcpp/"
   ]
  },
  {
   "cell_type": "markdown",
   "metadata": {},
   "source": [
    "TODO: Add detailed derivation of the conditional probabilities from my notes"
   ]
  },
  {
   "cell_type": "code",
   "execution_count": 104,
   "metadata": {},
   "outputs": [],
   "source": [
    "import numpy as np\n",
    "import pandas as pd\n",
    "import matplotlib.pyplot as plt"
   ]
  },
  {
   "cell_type": "code",
   "execution_count": 105,
   "metadata": {},
   "outputs": [],
   "source": [
    "def generate_data(n, beta_0, beta, sigma):\n",
    "    X = np.random.uniform(-5,5,size=[n, len(beta)])\n",
    "    y = beta_0 + np.dot(X, beta) + np.random.normal(0, sigma, size=[n,])\n",
    "    \n",
    "    if len(beta)==1:\n",
    "        X = X.reshape((n,))\n",
    "    return X, y"
   ]
  },
  {
   "cell_type": "code",
   "execution_count": 106,
   "metadata": {},
   "outputs": [],
   "source": [
    "X_train, y_train = generate_data(1000, 2, [1.5], 1/np.sqrt(1))"
   ]
  },
  {
   "cell_type": "markdown",
   "metadata": {},
   "source": [
    "Code is based on https://kieranrcampbell.github.io/blog/2016/05/15/gibbs-sampling-bayesian-linear-regression.html"
   ]
  },
  {
   "cell_type": "markdown",
   "metadata": {},
   "source": [
    "Don't forget: In frequentist statistics, the Normal distribution is parameterized by $\\mathcal{N}(\\mu, \\sigma^2)$. Because it is nicer to work with when deriving, for example, our conditional distributions, we work with $\\tau = \\frac{1}{\\sigma^2}$.\n",
    "Numpy parameterizes its distribution by *location* and *scale*. See the function description to see that *scale* for the normal distribution is its *standard deviation* $\\sigma$. Our input to the function accordingly needs to be $\\sqrt{1/{\\tau}}$."
   ]
  },
  {
   "cell_type": "code",
   "execution_count": 107,
   "metadata": {},
   "outputs": [],
   "source": [
    "def sample_beta_0(y,x,beta_1, tau, mu_0,tau_0):\n",
    "    N = len(y)\n",
    "    assert len(x)==N # Check that length of x is the same as of y\n",
    "      \n",
    "    precision = tau_0 + tau*N    \n",
    "    mean = tau_0 * mu_0 + tau * np.sum(y - np.multiply(beta_1,x))\n",
    "    mean /= precision # Divide by precision as in conditional distribution result\n",
    "    \n",
    "    return np.random.normal(loc=mean, scale=1/np.sqrt(precision))"
   ]
  },
  {
   "cell_type": "code",
   "execution_count": 108,
   "metadata": {},
   "outputs": [],
   "source": [
    "def sample_beta_1(y,x,beta_0, tau, mu_1,tau_1):\n",
    "    N = len(y)\n",
    "    assert len(x)==N # Check that length of x is the same as of y\n",
    "    \n",
    "    precision = tau_1 + tau*np.sum(np.square(x))\n",
    "    mean = tau_1*mu_1 + tau*np.sum( (y - beta_0)*x)\n",
    "    mean /= precision # Divide by precision as in conditional distribution result\n",
    "    \n",
    "    return np.random.normal(mean, 1/np.sqrt(precision))"
   ]
  },
  {
   "cell_type": "markdown",
   "metadata": {},
   "source": [
    "Again, numpy defines the parameters for tha Gamma distribution differently. $\\alpha$ corresponds to the rate paramater in numpy, while our $\\beta$ is the rate parameter. For its sampling function, numpy asks for the scale or *inverse* rate parameter, i.e. $1/\\beta$."
   ]
  },
  {
   "cell_type": "code",
   "execution_count": 109,
   "metadata": {},
   "outputs": [],
   "source": [
    "def sample_tau(y,x,beta_0,beta_1,alpha,beta):\n",
    "    N = len(y)\n",
    "    assert len(x)==N\n",
    "    shape = alpha + N/2\n",
    "    residual = y-beta_0-beta_1*x\n",
    "    rate = beta + np.sum(np.square(residual))/2\n",
    "    \n",
    "    print(np.sum(np.square(residual)))\n",
    "    \n",
    "    return np.random.gamma(shape = shape, scale = 1/rate)"
   ]
  },
  {
   "cell_type": "code",
   "execution_count": 110,
   "metadata": {},
   "outputs": [],
   "source": [
    "def sample_tau(y, x, beta_0, beta_1, alpha, beta):\n",
    "    N = len(y)\n",
    "    alpha_new = alpha + N / 2\n",
    "    resid = y - beta_0 - beta_1 * x\n",
    "    beta_new = beta + np.sum(resid * resid) / 2\n",
    "    return np.random.gamma(alpha_new, 1 / beta_new)"
   ]
  },
  {
   "cell_type": "code",
   "execution_count": 111,
   "metadata": {},
   "outputs": [
    {
     "data": {
      "text/plain": [
       "(array([0., 0., 0., 0., 0., 1., 0., 0., 0., 0.]),\n",
       " array([20.342432, 20.442432, 20.542432, 20.642432, 20.742432, 20.842432,\n",
       "        20.942432, 21.042432, 21.142432, 21.242432, 21.342432]),\n",
       " <a list of 10 Patch objects>)"
      ]
     },
     "execution_count": 111,
     "metadata": {},
     "output_type": "execute_result"
    },
    {
     "data": {
      "image/png": "[encoded data removed]",
      "text/plain": [
       "<Figure size 432x288 with 1 Axes>"
      ]
     },
     "metadata": {},
     "output_type": "display_data"
    }
   ],
   "source": [
    "plt.hist(np.random.gamma(shape = 200, scale = 0.1))"
   ]
  },
  {
   "cell_type": "code",
   "execution_count": 112,
   "metadata": {},
   "outputs": [],
   "source": [
    "def gibbs(y,x,n_iter, inital_values, hyperparameters):\n",
    "    assert len(y)==len(x)\n",
    "    \n",
    "    # Set initial values\n",
    "    beta_0 = initial_values[\"beta_0\"]\n",
    "    beta_1 = initial_values[\"beta_1\"]\n",
    "    tau = initial_values[\"tau\"]\n",
    "    \n",
    "    trace = np.empty([n_iter, len(initial_values)])\n",
    "    \n",
    "    for i in range(n_iter):\n",
    "        beta_0 = sample_beta_0(y,x,beta_1, tau, \n",
    "                               hyperparameters[\"mu_0\"],hyperparameters[\"tau_0\"])\n",
    "        beta_1 = sample_beta_1(y,x,beta_0, tau, \n",
    "                               hyperparameters[\"mu_1\"],hyperparameters[\"tau_1\"])\n",
    "        tau = sample_tau(y,x,beta_0, beta_1, \n",
    "                               hyperparameters[\"alpha\"],hyperparameters[\"beta\"])\n",
    "        trace[i,:] = (beta_0, beta_1, tau)\n",
    "    \n",
    "    trace = pd.DataFrame(trace)\n",
    "    trace.columns = ['beta_0', 'beta_1', 'tau']\n",
    "    \n",
    "    return trace\n",
    "    "
   ]
  },
  {
   "cell_type": "code",
   "execution_count": 113,
   "metadata": {},
   "outputs": [],
   "source": [
    "# Specify hyperparameters\n",
    "hyperparameters = {\n",
    "    \"mu_0\": 0,\n",
    "    \"tau_0\": 1,\n",
    "    \"mu_1\": 0,\n",
    "    \"tau_1\": 1,\n",
    "    \"alpha\": 2,\n",
    "    \"beta\": 1\n",
    "}\n",
    "\n",
    "# Specify intial values \n",
    "initial_values = {\n",
    "    \"beta_0\" : 0,\n",
    "    \"beta_1\" : 0,\n",
    "    \"tau\" : 2\n",
    "}"
   ]
  },
  {
   "cell_type": "code",
   "execution_count": 118,
   "metadata": {},
   "outputs": [],
   "source": [
    "trace = gibbs(y_train, X_train, 1000, initial_values, hyperparameters)"
   ]
  },
  {
   "cell_type": "code",
   "execution_count": 119,
   "metadata": {},
   "outputs": [
    {
     "data": {
      "text/html": [
       "<div>\n",
       "<style scoped>\n",
       "    .dataframe tbody tr th:only-of-type {\n",
       "        vertical-align: middle;\n",
       "    }\n",
       "\n",
       "    .dataframe tbody tr th {\n",
       "        vertical-align: top;\n",
       "    }\n",
       "\n",
       "    .dataframe thead th {\n",
       "        text-align: right;\n",
       "    }\n",
       "</style>\n",
       "<table border=\"1\" class=\"dataframe\">\n",
       "  <thead>\n",
       "    <tr style=\"text-align: right;\">\n",
       "      <th></th>\n",
       "      <th>beta_0</th>\n",
       "      <th>beta_1</th>\n",
       "      <th>tau</th>\n",
       "    </tr>\n",
       "  </thead>\n",
       "  <tbody>\n",
       "    <tr>\n",
       "      <th>990</th>\n",
       "      <td>2.041454</td>\n",
       "      <td>1.477441</td>\n",
       "      <td>0.967763</td>\n",
       "    </tr>\n",
       "    <tr>\n",
       "      <th>991</th>\n",
       "      <td>2.002359</td>\n",
       "      <td>1.490812</td>\n",
       "      <td>0.992391</td>\n",
       "    </tr>\n",
       "    <tr>\n",
       "      <th>992</th>\n",
       "      <td>1.988382</td>\n",
       "      <td>1.511863</td>\n",
       "      <td>1.019237</td>\n",
       "    </tr>\n",
       "    <tr>\n",
       "      <th>993</th>\n",
       "      <td>2.045060</td>\n",
       "      <td>1.498760</td>\n",
       "      <td>0.999726</td>\n",
       "    </tr>\n",
       "    <tr>\n",
       "      <th>994</th>\n",
       "      <td>2.038853</td>\n",
       "      <td>1.494240</td>\n",
       "      <td>0.932608</td>\n",
       "    </tr>\n",
       "    <tr>\n",
       "      <th>995</th>\n",
       "      <td>2.017739</td>\n",
       "      <td>1.517555</td>\n",
       "      <td>0.957852</td>\n",
       "    </tr>\n",
       "    <tr>\n",
       "      <th>996</th>\n",
       "      <td>1.985492</td>\n",
       "      <td>1.484309</td>\n",
       "      <td>1.013847</td>\n",
       "    </tr>\n",
       "    <tr>\n",
       "      <th>997</th>\n",
       "      <td>2.019398</td>\n",
       "      <td>1.513990</td>\n",
       "      <td>1.028359</td>\n",
       "    </tr>\n",
       "    <tr>\n",
       "      <th>998</th>\n",
       "      <td>2.014861</td>\n",
       "      <td>1.504539</td>\n",
       "      <td>1.041177</td>\n",
       "    </tr>\n",
       "    <tr>\n",
       "      <th>999</th>\n",
       "      <td>2.011508</td>\n",
       "      <td>1.496593</td>\n",
       "      <td>0.886850</td>\n",
       "    </tr>\n",
       "  </tbody>\n",
       "</table>\n",
       "</div>"
      ],
      "text/plain": [
       "       beta_0    beta_1       tau\n",
       "990  2.041454  1.477441  0.967763\n",
       "991  2.002359  1.490812  0.992391\n",
       "992  1.988382  1.511863  1.019237\n",
       "993  2.045060  1.498760  0.999726\n",
       "994  2.038853  1.494240  0.932608\n",
       "995  2.017739  1.517555  0.957852\n",
       "996  1.985492  1.484309  1.013847\n",
       "997  2.019398  1.513990  1.028359\n",
       "998  2.014861  1.504539  1.041177\n",
       "999  2.011508  1.496593  0.886850"
      ]
     },
     "execution_count": 119,
     "metadata": {},
     "output_type": "execute_result"
    }
   ],
   "source": [
    "trace.iloc[-10:,:]"
   ]
  },
  {
   "cell_type": "code",
   "execution_count": 120,
   "metadata": {},
   "outputs": [
    {
     "data": {
      "image/png": "[encoded data removed]",
      "text/plain": [
       "<Figure size 432x288 with 1 Axes>"
      ]
     },
     "metadata": {},
     "output_type": "display_data"
    },
    {
     "data": {
      "image/png": "[encoded data removed]",
      "text/plain": [
       "<Figure size 432x288 with 1 Axes>"
      ]
     },
     "metadata": {},
     "output_type": "display_data"
    }
   ],
   "source": [
    "trace.plot()\n",
    "plt.show()\n",
    "trace.iloc[500:,:].plot()\n",
    "plt.axhline(2)\n",
    "plt.axhline(1)\n",
    "plt.axhline(1.5)\n",
    "plt.show()"
   ]
  },
  {
   "cell_type": "code",
   "execution_count": 122,
   "metadata": {},
   "outputs": [
    {
     "name": "stdout",
     "output_type": "stream",
     "text": [
      "beta_0    2.027256\n",
      "beta_1    1.502388\n",
      "tau       0.973706\n",
      "dtype: float64\n",
      "beta_0    0.030466\n",
      "beta_1    0.010870\n",
      "tau       0.043628\n",
      "dtype: float64\n"
     ]
    }
   ],
   "source": [
    "print(trace[500:].median())\n",
    "print(trace[500:].std())"
   ]
  },
  {
   "cell_type": "markdown",
   "metadata": {},
   "source": [
    "## Collapsed Gibbs sampling"
   ]
  },
  {
   "cell_type": "markdown",
   "metadata": {},
   "source": [
    "Resnik & Hardisty (2010): GIBBS SAMPLING FOR THE UNINITIATED"
   ]
  }
 ],
 "metadata": {
  "kernelspec": {
   "display_name": "Python [pymc]",
   "language": "python",
   "name": "Python [pymc]"
  },
  "language_info": {
   "codemirror_mode": {
    "name": "ipython",
    "version": 3
   },
   "file_extension": ".py",
   "mimetype": "text/x-python",
   "name": "python",
   "nbconvert_exporter": "python",
   "pygments_lexer": "ipython3",
   "version": "3.6.6"
  }
 },
 "nbformat": 4,
 "nbformat_minor": 2
}
