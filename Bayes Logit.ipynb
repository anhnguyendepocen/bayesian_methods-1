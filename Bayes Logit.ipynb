{
 "cells": [
  {
   "cell_type": "markdown",
   "metadata": {},
   "source": [
    "# Bayesian Logistic Regression"
   ]
  },
  {
   "cell_type": "markdown",
   "metadata": {},
   "source": [
    "## Bank Card Choice"
   ]
  },
  {
   "cell_type": "markdown",
   "metadata": {},
   "source": [
    "Logistic regression is a common benchmark model in machine learning because of its simplicity (no parameter tuning in a model without regularization), robustness (not prune to overfitting) and well-understood theoretical background. It's also a common model in many fields for researchers looking to analyze data to empirically test their theories, because its coefficients are easy to interpret. Logistic regression is also a good starting point to understand how Bayesian modeling works and to check out Edward (http://edwardlib.org), a new framework build on tensorflow to make Baysian methods faster and easier to use in combination with neural networks."
   ]
  },
  {
   "cell_type": "markdown",
   "metadata": {},
   "source": [
    "I'll work through an experiment to understand the necessary steps and see if I can get the code right. The data comes from a marketing experiment/conjoint analysis where participants were shown a choice between two hypothetical bank cards. The two cards were identical in all characteristics except for two.  Each participant evaluated 13-17 paired comparisons \n",
    "involving a fraction of attributes. \n",
    "\n",
    "The data bank_choice contains columns:\n",
    "\n",
    "- id: participant identifier\n",
    "- choice: choice indicator (1=first card; 0=second card)\n",
    "- remaining columns: x_hi1 - x_hi2, difference in attribute x between card 1 and card 2\n",
    "\n",
    "The data bank_demo contains columns:\n",
    "\n",
    "- id: participant identifier\n",
    "- remaining columns: demographic information\n",
    "\n",
    "Data Source:\n",
    "Gelman, A., Carlin, J. B., Stern, H. S., & Rubin, D. B. (2003). Bayesian Data Analysis."
   ]
  },
  {
   "cell_type": "code",
   "execution_count": 1,
   "metadata": {},
   "outputs": [],
   "source": [
    "import numpy as np # fast standard math capabilities\n",
    "import pandas as pd # easy data handling\n",
    "from sklearn.model_selection import train_test_split # scikit-learn for ML\n",
    "import edward as ed \n",
    "import tensorflow as tf \n",
    "import matplotlib.pyplot as plt # Useful for plotting\n",
    "import seaborn as sns # Advanced plots"
   ]
  },
  {
   "cell_type": "code",
   "execution_count": 2,
   "metadata": {},
   "outputs": [],
   "source": [
    "# Read in the csv data using pandas\n",
    "bank_choice = pd.read_csv(\"/Users/hauptjoh/Downloads/bank_choice.csv\")"
   ]
  },
  {
   "cell_type": "code",
   "execution_count": 3,
   "metadata": {},
   "outputs": [
    {
     "name": "stdout",
     "output_type": "stream",
     "text": [
      "Index(['id', 'choice', 'Med_FInt', 'Low_FInt', 'Med_VInt', 'Rewrd_2',\n",
      "       'Rewrd_3', 'Rewrd_4', 'Med_Fee', 'Low_Fee', 'Bank_B', 'Out_State',\n",
      "       'Med_Rebate', 'High_Rebate', 'High_CredLine', 'Long_Grace'],\n",
      "      dtype='object')\n"
     ]
    }
   ],
   "source": [
    "# Check column names\n",
    "print(bank_choice.columns)"
   ]
  },
  {
   "cell_type": "markdown",
   "metadata": {},
   "source": [
    "As always, I split the data into a subset to train the model (70%) and a different subset (30%) to check its performance. I also separate the target variable *choice* and the model input at this point."
   ]
  },
  {
   "cell_type": "code",
   "execution_count": 4,
   "metadata": {},
   "outputs": [],
   "source": [
    "choice_train, choice_test = train_test_split(bank_choice, test_size = 0.3, random_state = 123)"
   ]
  },
  {
   "cell_type": "code",
   "execution_count": 5,
   "metadata": {},
   "outputs": [],
   "source": [
    "y_train = choice_train[[\"choice\"]].values.flatten()\n",
    "X_train = choice_train.drop([\"choice\", \"id\"], axis = 1).values\n",
    "\n",
    "y_test = choice_test[[\"choice\"]].values.flatten()\n",
    "X_test = choice_test.drop([\"choice\", \"id\"], axis = 1).values"
   ]
  },
  {
   "cell_type": "code",
   "execution_count": 6,
   "metadata": {},
   "outputs": [
    {
     "name": "stdout",
     "output_type": "stream",
     "text": [
      "(10359,)\n",
      "(10359, 14)\n"
     ]
    }
   ],
   "source": [
    "print(y_train.shape)\n",
    "print(X_train.shape)"
   ]
  },
  {
   "cell_type": "markdown",
   "metadata": {},
   "source": [
    "## Standard (frequentist) Logit Model"
   ]
  },
  {
   "cell_type": "markdown",
   "metadata": {},
   "source": [
    "If you search for 'logistic regression with python', there's tons of pages explaining how to estimate a logistic regression model using sklearn. For comparison, I'll get the coefficients and area-under-the-ROC-curve (AUC) from the standard logit implementation.\n",
    "\n",
    "To be specific, I train the model $P(y_{hi}=1)=\\frac{exp[(x_{hi1}-x_{hi2})^T\\beta]}{1+exp[(x_{hi1}-x_{hi2})^T\\beta]}$,\n",
    "\n",
    "where $\\beta$ are the coefficients to estimate and $x_{hi1}$ and $x_{hi2}$ are the characteristics of choice 1 and choice 2 for the $i$-th set of choices for person $h$.\n",
    "\n",
    "We estimate the coefficients by maximizing the log-likelihood. An important extension to the logit model is regularization by the L1- (LASSO) or L2-norm (ridge). Intuitively, we add a new penalty term to the target function that decreases performance with increasing size of coefficients to make the model more \"simple\". Without Bayesian reasoning, this has some clear practical advantages, but to my knowledge no convincing theory behind it beyond \"when we force the coefficients to be smaller, the model is less complex and less complex models are more general/less prone to overfit\".\n",
    "\n",
    "Is not having a theoretical reason a bad thing? I know from neural networks that many practical tricks seem to work very robustly without a general proof. But not completely understanding an approach leaves us in the dark about its details, e.g. what it means to choose the L1-, L2- or why not the L4-norm? It blew my mind to find out that there's a clear Bayesian intuition for the L2-norm."
   ]
  },
  {
   "cell_type": "code",
   "execution_count": 7,
   "metadata": {},
   "outputs": [
    {
     "name": "stdout",
     "output_type": "stream",
     "text": [
      "[[ 1.59500819  3.10176761  2.01029561 -0.05008957 -0.47475756 -0.59287675\n",
      "   1.27482891  2.43007257 -0.09189518 -1.33641466  0.8876274   1.51297273\n",
      "   0.58670077  1.90118752]]\n"
     ]
    }
   ],
   "source": [
    "# Logistic regression with scikit-learn\n",
    "from sklearn import linear_model\n",
    "reg = linear_model.LogisticRegression(penalty=\"l2\", C=1)\n",
    "reg.fit(X=X_train, y=y_train)\n",
    "# Print out the estimated coefficients\n",
    "print(reg.coef_)"
   ]
  },
  {
   "cell_type": "code",
   "execution_count": 8,
   "metadata": {},
   "outputs": [
    {
     "name": "stdout",
     "output_type": "stream",
     "text": [
      "0.7924568382159967\n"
     ]
    }
   ],
   "source": [
    "# ROC-AUC for logit model\n",
    "from sklearn.metrics import roc_auc_score\n",
    "print(roc_auc_score(y_test, reg.predict_proba(X_test)[:,1]))"
   ]
  },
  {
   "cell_type": "markdown",
   "metadata": {},
   "source": [
    "## Bayesian Logit model"
   ]
  },
  {
   "cell_type": "markdown",
   "metadata": {},
   "source": [
    "Now let's do logistic regression using Bayesian methods implemented in *Edward*. "
   ]
  },
  {
   "cell_type": "markdown",
   "metadata": {},
   "source": [
    "To work with edward, it's useful to have an intuition about how Tensorflow works. Tensorflow creates a dataflow graph in the background. If you've worked with module *Keras* before to build neural networks, you'll notice that Edward requires a little more interaction with actual tensorflow. Most importantly, remember that tensorflow will create a session in the background where all the Tensorflow variables and operations are defined. For future reference and as a reminder to myself, here's the link to Tensorflow's help page on this: https://www.tensorflow.org/programmers_guide/graphs."
   ]
  },
  {
   "cell_type": "code",
   "execution_count": 9,
   "metadata": {},
   "outputs": [],
   "source": [
    "# If things go wrong, it's useful to reset the graph and start fresh\n",
    "# without having to restart the kernel\n",
    "tf.reset_default_graph()"
   ]
  },
  {
   "cell_type": "code",
   "execution_count": 10,
   "metadata": {},
   "outputs": [],
   "source": [
    "# Set the random number generator seed for replicable results\n",
    "ed.set_seed(42) # "
   ]
  },
  {
   "cell_type": "markdown",
   "metadata": {},
   "source": [
    "Remember that we are constructing a computational graph in the background. Without understanding any details, that means that we need to be specific about the input to the computation. The way this works is that we define a placeholder with the right dimensions into which we can input data later."
   ]
  },
  {
   "cell_type": "code",
   "execution_count": 11,
   "metadata": {},
   "outputs": [
    {
     "name": "stdout",
     "output_type": "stream",
     "text": [
      "10359\n",
      "14\n"
     ]
    }
   ],
   "source": [
    "N = y_train.shape[0] # Number of observations\n",
    "D = X_train.shape[1] # Number of variables\n",
    "print(N)\n",
    "print(D)"
   ]
  },
  {
   "cell_type": "code",
   "execution_count": 12,
   "metadata": {},
   "outputs": [],
   "source": [
    "# Tensorflow placeholder for matrix of float numbers with dimensions [N, D]\n",
    "X = tf.placeholder(tf.float32, [N, D])"
   ]
  },
  {
   "cell_type": "markdown",
   "metadata": {},
   "source": [
    "Now I'll define the model or \"generative process\" of the data. It's useful to start at the end of the definition. \n",
    "\n",
    "- $y$: The observations $y$ are sampled from a Bernoulli distribution because that distribution describes the \"success\" of an experiment in terms of 0 and 1. It takes one parameter, which is the probability of the intresting outcome,i.e. person picks credit card option 1. We believe that this probability is different for each set of options, so we make the probability dependent on $x$.\n",
    "\n",
    "At this point, we could maximize the likelihood of the observed outcomes with regard to the model parameters. Maximizing the likelihood sounds complicated, but the steps are not actually difficult (in this case). *Bernoulli distribution* is just shorthand for a function that we can look up on Wikipedia, \n",
    "\n",
    "$f(y,p)=p^{k}(1-p)^{1-y} \\quad \\text{for } y \\in \\{0,1\\}$. \n",
    "\n",
    "Since our observations are (assumed to be) independent, the overall likelihood is the product of the likelihood of each observation.\n",
    "\n",
    "This is the standard approach. Why is that not the best we can do? I'll try to paraphrase Christopher Bishop's great book Pattern Recognition and Machine Learning. Our model captures one kind of uncertainty: We take what we know about the credit card options and say how probable it is that a person will choose option 1.    \n",
    "The standard model ignores another kind of uncertainty: We are not sure about our estimate of the coefficients, they could be a little higher or lower. We could be more certain about our estimates if, for example, we had more data, but some uncertainty will remain.    \n",
    "Typically, I would address these concerns by looking at the size and p-values of the estimated effects and so on. But in the Bayesian framework, we can include them into the model to estimate the uncertainty directly.\n",
    "\n",
    "- $b$ & $w$: I draw the bias term and each coefficient/weight of the regression part from a Normal distribution with mean 0 and variance equal to 1. But... why? I believe that the effects are likely to lie around 0 (at least since the data is normalized) and less likely to lie far away from zero. That's my *prior* belief and a design choice. The interesting part is that with enough data, the prior beliefs matter less and less and may be completely overruled.\n",
    "\n",
    "If you've paid attention, you'll notice that I have not said how I picked the mean and variance for the normal distributions. I could also include a prior on those or estimate them from the data. Instead, I will argue that it's okay to just pick them in this case."
   ]
  },
  {
   "cell_type": "code",
   "execution_count": 13,
   "metadata": {},
   "outputs": [],
   "source": [
    "from edward.models import Normal, Bernoulli, Empirical"
   ]
  },
  {
   "cell_type": "code",
   "execution_count": 14,
   "metadata": {},
   "outputs": [],
   "source": [
    "w = Normal(loc=tf.zeros(D), scale=1.0 * tf.ones(D))\n",
    "b = Normal(loc=tf.zeros([]), scale=1.0 * tf.ones([]))\n",
    "y = Bernoulli(probs=1/(1+tf.exp(-(ed.dot(X, w) + b))) )"
   ]
  },
  {
   "cell_type": "markdown",
   "metadata": {},
   "source": [
    "The Bernoulli class can take the log-odds (logit) as argument directly, thus avoiding the calculation of the expectation, but I feel that it's helpful to make the code look like the definition of the Bernoulli distirbution that you'll find online."
   ]
  },
  {
   "cell_type": "code",
   "execution_count": 15,
   "metadata": {},
   "outputs": [
    {
     "name": "stdout",
     "output_type": "stream",
     "text": [
      "RandomVariable(\"Bernoulli/\", shape=(10359,), dtype=int32)\n"
     ]
    }
   ],
   "source": [
    "with tf.Session() as sess:\n",
    "    print(y)"
   ]
  },
  {
   "cell_type": "markdown",
   "metadata": {},
   "source": [
    "### MCMC"
   ]
  },
  {
   "cell_type": "markdown",
   "metadata": {},
   "source": [
    "We can still write down the function behind the model including the priors, but it is not as pretty as before:\n",
    "\n",
    "$p(y|w,b,X) = \\displaystyle\\prod^n_{i=1}\\left[\n",
    "\\left(\\frac{\n",
    "e^{\\beta_0+\\beta_1X_{i1} + \\ldots + \\beta_1X_{i1}}}{1+e^{\\beta_0+\\beta_1X_{i1} + \\ldots + \\beta_1X_{i1}}}\\right)^{y_i}\n",
    "\\left(1-\\frac{\n",
    "e^{\\beta_0+\\beta_1X_{i1} + \\ldots + \\beta_1X_{i1}}}{1+e^{\\beta_0+\\beta_1X_{i1} + \\ldots + \\beta_1X_{i1}}}\\right)^{1-y_i}\\right]\n",
    "\\cdot\n",
    "\\displaystyle\\prod^k_{j=1} \\frac{1}{\\sqrt{2\\pi} \\sigma_j}\\cdot e^{-\n",
    " \\frac{(\\beta_j-\\mu_j)^2}{2\\sigma_j^2} }$\n",
    " \n",
    "Despite looking complicated, I have just written out the definitions for the Bernoulli and Normal distributions. Dealing with complex posterior distributions like this is the difficulty of Bayesian inference and probably the reason why I didn't learn about Bayesian methods in my (under)graduate classes. But we don't have to worry about this, if we don't want to build our own fancy models."
   ]
  },
  {
   "cell_type": "markdown",
   "metadata": {},
   "source": [
    "We can use sampling algorithms to approximate the distribution we are looking for (For a good overview look here: http://citeseerx.ist.psu.edu/viewdoc/download?doi=10.1.1.13.7133&rep=rep1&type=pdf). This works even in cases where this posterior distribution is much more complicated. \n",
    "The Toyota of sampling alogrithms is the metropolis-hastings algorithm. The MH algorithm works by starting with the parameters (our $b$ and $w$s) initialized at random. It then starts moving through different values of $b$ and $w$ by picking new candidates $b^*, w^*$ and accepting them if they seem 'better'. 'Better' is defined by an acceptance rule giving the probability of acceptance as \n",
    "\n",
    "$\\alpha = \\text{min}(\\frac{p(x^*) q(x|x^*)}{p(x) q(x^*|x)}, 1)$. \n",
    "\n",
    "Don't worry about the $min(\\cdot,1)$, it just ensures that our probability to jump doesn't exceed 1."
   ]
  },
  {
   "cell_type": "markdown",
   "metadata": {},
   "source": [
    "To put that in a familiar context, image you're traveling through Germany. You have no idea were tourists normally go, so you decide to pick you next destination on the fly. Let's say your traveling for good and if you find the perfect place, you are willing to go back for another day. That's a Markov Chain, since your next destination depends only on your current position. \n",
    "\n",
    "Today you are in Frankfurt and searching for the next train to leave the city $q(\\cdot|x)$ suggets you go to Nuremberg. To decide whether to go or stay, you check online 1) how many tourists visit Frankfurt every year $p(x)$ and 2) how many tourists visit Nuremberg every year $p(x^*)$. If relatively more tourists visit Nuremberg, that's surely the place to be, so you're more likely to go. That's the original Metropolis algorithm.\n",
    "\n",
    "Now a more efficient backpacker strategy would be to ask a random passer-by for a suggestion instead of boarding just any train. Sounds good, but there's a danger: They could make you miss out on whole parts of the country by sending you to places where people are unlikely to send you back in the direction you came from. Let's say Germans from the south are unlikely to send you back up north to Hamburg or Berlin. In this case it's better to think twice before burning that bridge and going to Nuremberg, so you correct your acceptance probability to account for the asymmetry. You can do that by taking surprising suggetions $q(x^*|x)$ more seriously and avoiding suggestions that send you to places where people will not send you back the direction you came from $p(x|x^*)$. That's the extension from the Metropolis to the Metropolis-Hastings algorithm."
   ]
  },
  {
   "cell_type": "markdown",
   "metadata": {},
   "source": [
    "The tricky part in application of the MH algorithm is to pick a proposal distribution that gives suggestions far from the places you've already seen but also enough suggestions that fit the acceptance rule. Throwing darts might suggest too many places all over Germany that no tourist has ever visited, so you'll just stay put in Frankfurt. Passers-by are likely to suggest cities in the vicinity and get you stuck in just one state for a long time."
   ]
  },
  {
   "cell_type": "markdown",
   "metadata": {},
   "source": [
    "For the example, we'll sample new candiates from a normal distribution centered around the current state. If we pick the variance of the normal distirbution too high, we'll end up with a low acceptance rate and no movement of the markov chain. If we pick the variance too low, the chain will move in small steps and will take too long to explore. I've picked 0.2 by trying a few values and aiming for an acceptance rate close to 0.5"
   ]
  },
  {
   "cell_type": "code",
   "execution_count": 16,
   "metadata": {},
   "outputs": [],
   "source": [
    "proposal_w = Normal(loc=w, scale = .02)\n",
    "proposal_b = Normal(loc=b, scale = .02)"
   ]
  },
  {
   "cell_type": "markdown",
   "metadata": {},
   "source": [
    "We want to take *n* samples from our model, so we need to create a place to save them. Edward has a class *Empirical* which collects samples from a random variable. It then gives us direct access to the empirical statistics of the random variables and I can sample directly from it. I need to set up space to save the random variables, so I pick the number of samples that I would like to save at 30,000. I pick 30,000 because I sounds high enough to get robust results. "
   ]
  },
  {
   "cell_type": "code",
   "execution_count": 17,
   "metadata": {},
   "outputs": [],
   "source": [
    "T = 30000 # Number of iterations\n",
    "qw = Empirical(tf.Variable(tf.zeros([T,D])))\n",
    "qb = Empirical(tf.Variable(tf.zeros([T,])))"
   ]
  },
  {
   "cell_type": "markdown",
   "metadata": {},
   "source": [
    "I can now put it all together. I would like to do inference on variables connected through the model I specified using the MH algorithm. The necessary information is\n",
    "\n",
    "- Use function MetropolisHastings to sample\n",
    "- Save the results for w in a random variable qw, for b in a random variable qb\n",
    "- During sampling, samples new proposed steps from the distributions proposal_w and proposal_b\n",
    "- Evaluate the target posterior given data X_train and y_train"
   ]
  },
  {
   "cell_type": "code",
   "execution_count": 18,
   "metadata": {},
   "outputs": [
    {
     "name": "stderr",
     "output_type": "stream",
     "text": [
      "/Users/hauptjoh/anaconda/envs/edward/lib/python3.6/site-packages/edward/util/random_variables.py:52: FutureWarning: Conversion of the second argument of issubdtype from `float` to `np.floating` is deprecated. In future, it will be treated as `np.float64 == np.dtype(float).type`.\n",
      "  not np.issubdtype(value.dtype, np.float) and \\\n",
      "/Users/hauptjoh/anaconda/envs/edward/lib/python3.6/site-packages/edward/util/random_variables.py:53: FutureWarning: Conversion of the second argument of issubdtype from `int` to `np.signedinteger` is deprecated. In future, it will be treated as `np.int64 == np.dtype(int).type`.\n",
      "  not np.issubdtype(value.dtype, np.int) and \\\n"
     ]
    }
   ],
   "source": [
    "from edward.inferences import MetropolisHastings\n",
    "inference = MetropolisHastings({w:qw, b:qb}, \n",
    "                               {w:proposal_w, b:proposal_b},\n",
    "                               data={y:y_train, X:X_train})"
   ]
  },
  {
   "cell_type": "code",
   "execution_count": 19,
   "metadata": {},
   "outputs": [
    {
     "name": "stdout",
     "output_type": "stream",
     "text": [
      "30000/30000 [100%] ██████████████████████████████ Elapsed: 72s | Acceptance Rate: 0.413\n"
     ]
    }
   ],
   "source": [
    "# Actually run inference and print update every 500 iterations\n",
    "inference.run(n_print=500)"
   ]
  },
  {
   "cell_type": "markdown",
   "metadata": {},
   "source": [
    "Let's see what that gets us. Contracy to the frequentist approach, our result is a distribution for each parameter $b,w_1,\\ldots,w_{14}$. What does that mean? Simply put, we are not sure what the parameters are! That sounds bad, but is actually in the nature of things. \n",
    "\n",
    "The philosopher David Hume made a pretty convincing argument that even if I've seen the sun rise my whole life, I can never be 100% certain that it will do so tomorrow, since logical certainties can't be deducted from observation only. I can be very, very certain, though, and we can visualize that certainty. I'll visualize each distribution by sampling from it a lot of times and plotting the samples as a histogram or density plot."
   ]
  },
  {
   "cell_type": "code",
   "execution_count": 26,
   "metadata": {},
   "outputs": [],
   "source": [
    "# For variable at position var_id, sample n times and plot\n",
    "var_id = 0\n",
    "# Sample from the random variable's distribution 10000 times\n",
    "# Don't forget to evaluate the tensors after sampling to get numpy arrays.\n",
    "estimates = qw.sample(10000).eval()[:, var_id]"
   ]
  },
  {
   "cell_type": "code",
   "execution_count": 27,
   "metadata": {},
   "outputs": [
    {
     "data": {
      "image/png": "[encoded data removed]",
      "text/plain": [
       "<matplotlib.figure.Figure at 0x1a20d60eb8>"
      ]
     },
     "metadata": {},
     "output_type": "display_data"
    }
   ],
   "source": [
    "# Compute a density plot to have a smooth distribution of results\n",
    "var_plot = sns.kdeplot(data=estimates)\n",
    "# Add lines at density mean (blue) and at sklearn regression estimate (red)\n",
    "plt.axvline(x=np.mean(estimates), color = \"blue\", linestyle=\"dashed\")\n",
    "plt.axvline(x=reg.coef_.flatten()[var_id], color = \"red\", linestyle=\"dashed\")\n",
    "plt.show()"
   ]
  },
  {
   "cell_type": "markdown",
   "metadata": {},
   "source": [
    "How do we interpret this? I am used to seeing three things reported in studies from economics: a single estimate of the effect, a p-value and a confidence interval. How to we find a single effect estimate to report? The mean? The median? One important takeaway is that the standard approach picks a single value for us that might not be the one we would pick ourselves."
   ]
  },
  {
   "cell_type": "code",
   "execution_count": 35,
   "metadata": {},
   "outputs": [
    {
     "name": "stdout",
     "output_type": "stream",
     "text": [
      "-0.059135817\n",
      "[-0.04339837]\n"
     ]
    }
   ],
   "source": [
    "b_est = np.mean(qb.sample(1000).eval())\n",
    "print(b_est)\n",
    "print(reg.intercept_)"
   ]
  },
  {
   "cell_type": "code",
   "execution_count": 36,
   "metadata": {},
   "outputs": [
    {
     "name": "stdout",
     "output_type": "stream",
     "text": [
      "[ 1.5769122   3.0697756   1.9952586  -0.04674401 -0.46992552 -0.588219\n",
      "  1.2472618   2.3820918  -0.09895556 -1.3471849   0.8685688   1.4687728\n",
      "  0.5630965   1.8716323 ]\n",
      "[[ 1.59500819  3.10176761  2.01029561 -0.05008957 -0.47475756 -0.59287675\n",
      "   1.27482891  2.43007257 -0.09189518 -1.33641466  0.8876274   1.51297273\n",
      "   0.58670077  1.90118752]]\n"
     ]
    }
   ],
   "source": [
    "w_est = np.mean(qw.sample(1000).eval(),axis=0)\n",
    "print(w_est)\n",
    "print(reg.coef_)"
   ]
  },
  {
   "cell_type": "markdown",
   "metadata": {},
   "source": [
    "With point estimates from the mean of the distribution, we can follow the same math as in frequentist logistic regression to calculate probability estimates. In fact, if you're willing to do some math, you can show that this is equivalent to maximum likelihood estimation."
   ]
  },
  {
   "cell_type": "code",
   "execution_count": 37,
   "metadata": {},
   "outputs": [],
   "source": [
    "pred = tf.sigmoid(ed.dot(tf.cast(X_test, tf.float32), w_est) + b_est).eval()"
   ]
  },
  {
   "cell_type": "code",
   "execution_count": 38,
   "metadata": {},
   "outputs": [
    {
     "name": "stdout",
     "output_type": "stream",
     "text": [
      "[0.25302917 0.37208635 0.5394462  0.13802248 0.1548903  0.19252193\n",
      " 0.6254152  0.48546207 0.69709945 0.32713148]\n"
     ]
    }
   ],
   "source": [
    "print(pred[0:10])"
   ]
  },
  {
   "cell_type": "code",
   "execution_count": 39,
   "metadata": {},
   "outputs": [
    {
     "name": "stdout",
     "output_type": "stream",
     "text": [
      "0.7922674666927396\n"
     ]
    }
   ],
   "source": [
    "from sklearn.metrics import confusion_matrix, roc_auc_score\n",
    "print(roc_auc_score(y_test, pred))"
   ]
  },
  {
   "cell_type": "markdown",
   "metadata": {},
   "source": [
    "To get true Bayesian estimates, we can avoid point estimates and instead sample from the posterior distribution of y. The resulting samples can be used to calculate better measures of our confidence in the prediction."
   ]
  },
  {
   "cell_type": "markdown",
   "metadata": {},
   "source": [
    "When predicting on the test data, an issue with Edward that I haven't figured out is that the placeholder for the input data doesn't fit anymore. We defined the placeholder to be the size of the training data for inference, but now need it to be the size of the test data. I therefore copy the posterior with the infered weights and bias distributions and a new placeholder for the test data."
   ]
  },
  {
   "cell_type": "code",
   "execution_count": 40,
   "metadata": {},
   "outputs": [],
   "source": [
    "X_post = tf.placeholder(tf.float32, X_test.shape)\n",
    "y_post = Bernoulli(logits=ed.dot(X_post, qw) + qb)"
   ]
  },
  {
   "cell_type": "markdown",
   "metadata": {},
   "source": [
    "Sample predictions for all observations from the Bernoulli distribution (i.e. 1/0). Repeat drawing predictions n times to approximate a prediction distribution for each observation. "
   ]
  },
  {
   "cell_type": "code",
   "execution_count": 53,
   "metadata": {},
   "outputs": [
    {
     "data": {
      "text/plain": [
       "(50000, 4440)"
      ]
     },
     "execution_count": 53,
     "metadata": {},
     "output_type": "execute_result"
    }
   ],
   "source": [
    "yhat = y_post.sample(50000, ).eval({X_post:X_test})\n",
    "yhat.shape"
   ]
  },
  {
   "cell_type": "code",
   "execution_count": 54,
   "metadata": {},
   "outputs": [
    {
     "data": {
      "text/plain": [
       "array([[1, 0],\n",
       "       [0, 0],\n",
       "       [0, 0],\n",
       "       [0, 0],\n",
       "       [0, 1]], dtype=int32)"
      ]
     },
     "execution_count": 54,
     "metadata": {},
     "output_type": "execute_result"
    }
   ],
   "source": [
    "yhat[0:5,0:2]"
   ]
  },
  {
   "cell_type": "code",
   "execution_count": 55,
   "metadata": {},
   "outputs": [
    {
     "data": {
      "image/png": "[encoded data removed]",
      "text/plain": [
       "<matplotlib.figure.Figure at 0x1a2143d860>"
      ]
     },
     "metadata": {},
     "output_type": "display_data"
    }
   ],
   "source": [
    "plt.hist(yhat[:,0])\n",
    "plt.show()"
   ]
  },
  {
   "cell_type": "code",
   "execution_count": 56,
   "metadata": {},
   "outputs": [],
   "source": [
    "probs = np.mean(yhat, axis = 0)"
   ]
  },
  {
   "cell_type": "code",
   "execution_count": 57,
   "metadata": {},
   "outputs": [
    {
     "data": {
      "text/plain": [
       "array([0.23756, 0.35966, 0.52944, 0.1272 , 0.1222 , 0.19194, 0.639  ,\n",
       "       0.45776, 0.68214, 0.33076])"
      ]
     },
     "execution_count": 57,
     "metadata": {},
     "output_type": "execute_result"
    }
   ],
   "source": [
    "probs[0:10]"
   ]
  },
  {
   "cell_type": "code",
   "execution_count": 58,
   "metadata": {},
   "outputs": [
    {
     "name": "stdout",
     "output_type": "stream",
     "text": [
      "0.7922815666376778\n"
     ]
    }
   ],
   "source": [
    "from sklearn.metrics import confusion_matrix, roc_auc_score\n",
    "print(roc_auc_score(y_test, probs))"
   ]
  },
  {
   "cell_type": "markdown",
   "metadata": {},
   "source": [
    "The Bayesian treatment of the parameters in logistic regression naturally is not the end, but rather the beginning of my work with Bayesian models. Nevertheless, I've got some homework to do in statistics, tensorflow and edward!"
   ]
  }
 ],
 "metadata": {
  "anaconda-cloud": {},
  "kernelspec": {
   "display_name": "Python [edward]",
   "language": "python",
   "name": "Python [edward]"
  },
  "language_info": {
   "codemirror_mode": {
    "name": "ipython",
    "version": 3
   },
   "file_extension": ".py",
   "mimetype": "text/x-python",
   "name": "python",
   "nbconvert_exporter": "python",
   "pygments_lexer": "ipython3",
   "version": "3.6.4"
  }
 },
 "nbformat": 4,
 "nbformat_minor": 2
}
